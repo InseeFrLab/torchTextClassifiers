{
 "cells": [
  {
   "cell_type": "markdown",
   "id": "a01b1526-51df-4bf9-9fd4-11ef22ffcc79",
   "metadata": {},
   "source": [
    "# Example usage of the `torchTextClassifiers` library\n",
    "\n",
    "*Warning*\n",
    "\n",
    "*`torchTextClassifiers` library is still under active development. Have a\n",
    "regular look to <https://github.com/inseefrlab/torchTextClassifiers> for\n",
    "latest information.*\n",
    "\n",
    "To install package, you can run the following snippet"
   ]
  },
  {
   "cell_type": "code",
   "execution_count": 6,
   "id": "a00a2856",
   "metadata": {},
   "outputs": [
    {
     "name": "stdout",
     "output_type": "stream",
     "text": [
      "\u001b[2mUsing Python 3.13.5 environment at: /opt/python\u001b[0m\n",
      "\u001b[2K\u001b[2mResolved \u001b[1m42 packages\u001b[0m \u001b[2min 70ms\u001b[0m\u001b[0m                                         \u001b[0m\n",
      "\u001b[2K   \u001b[36m\u001b[1mBuilding\u001b[0m\u001b[39m torchtextclassifiers\u001b[2m @ file:///home/onyxia/work/torchTextClassifiers\u001b[0m\n",
      "\u001b[2K\u001b[1A      \u001b[32m\u001b[1mBuilt\u001b[0m\u001b[39m torchtextclassifiers\u001b[2m @ file:///home/onyxia/work/torchTextClassifiers\u001b[0m\n",
      "\u001b[2K\u001b[2mPrepared \u001b[1m1 package\u001b[0m \u001b[2min 28ms\u001b[0m\u001b[0m                                               \n",
      "\u001b[2mUninstalled \u001b[1m1 package\u001b[0m \u001b[2min 1ms\u001b[0m\u001b[0m\n",
      "\u001b[2K░░░░░░░░░░░░░░░░░░░░ [0/1] \u001b[2mInstalling wheels...                                 \u001b[0m\u001b[1m\u001b[33mwarning\u001b[39m\u001b[0m\u001b[1m:\u001b[0m \u001b[1mFailed to hardlink files; falling back to full copy. This may lead to degraded performance.\n",
      "         If the cache and target directories are on different filesystems, hardlinking may not be supported.\n",
      "         If this is intentional, set `export UV_LINK_MODE=copy` or use `--link-mode=copy` to suppress this warning.\u001b[0m\n",
      "\u001b[2K\u001b[2mInstalled \u001b[1m1 package\u001b[0m \u001b[2min 3ms\u001b[0m\u001b[0ms==0.0.0.dev0 (from file:///home/o\u001b[0m\n",
      " \u001b[33m~\u001b[39m \u001b[1mtorchtextclassifiers\u001b[0m\u001b[2m==0.0.0.dev0 (from file:///home/onyxia/work/torchTextClassifiers)\u001b[0m\n",
      "Note: you may need to restart the kernel to use updated packages.\n",
      "\u001b[2mUsing Python 3.13.5 environment at: /opt/python\u001b[0m\n",
      "\u001b[2K\u001b[2mResolved \u001b[1m43 packages\u001b[0m \u001b[2min 229ms\u001b[0m\u001b[0m                                        \u001b[0m\n",
      "\u001b[2K\u001b[37m⠙\u001b[0m \u001b[2mPreparing packages...\u001b[0m (0/2)                                                   \n",
      "\u001b[2K\u001b[1A\u001b[37m⠙\u001b[0m \u001b[2mPreparing packages...\u001b[0m (0/2)--------------\u001b[0m\u001b[0m     0 B/1.34 MiB            \u001b[1A\n",
      "\u001b[2K\u001b[1A\u001b[37m⠙\u001b[0m \u001b[2mPreparing packages...\u001b[0m (0/2)--------------\u001b[0m\u001b[0m 14.91 KiB/1.34 MiB          \u001b[1A\n",
      "\u001b[2K\u001b[1A\u001b[37m⠙\u001b[0m \u001b[2mPreparing packages...\u001b[0m (0/2)--------------\u001b[0m\u001b[0m 30.91 KiB/1.34 MiB          \u001b[1A\n",
      "\u001b[2K\u001b[1A\u001b[37m⠙\u001b[0m \u001b[2mPreparing packages...\u001b[0m (0/2)--------------\u001b[0m\u001b[0m 46.91 KiB/1.34 MiB          \u001b[1A\n",
      "\u001b[2K\u001b[1A\u001b[37m⠙\u001b[0m \u001b[2mPreparing packages...\u001b[0m (0/2)--------------\u001b[0m\u001b[0m 62.91 KiB/1.34 MiB          \u001b[1A\n",
      "\u001b[2K\u001b[1A\u001b[37m⠙\u001b[0m \u001b[2mPreparing packages...\u001b[0m (0/2)--------------\u001b[0m\u001b[0m 78.91 KiB/1.34 MiB          \u001b[1A\n",
      "\u001b[2K\u001b[1A\u001b[37m⠙\u001b[0m \u001b[2mPreparing packages...\u001b[0m (0/2)--------------\u001b[0m\u001b[0m 94.91 KiB/1.34 MiB          \u001b[1A\n",
      "\u001b[2K\u001b[1A\u001b[37m⠙\u001b[0m \u001b[2mPreparing packages...\u001b[0m (0/2)--------------\u001b[0m\u001b[0m 110.91 KiB/1.34 MiB         \u001b[1A\n",
      "\u001b[2K\u001b[1A\u001b[37m⠙\u001b[0m \u001b[2mPreparing packages...\u001b[0m (0/2)--------------\u001b[0m\u001b[0m 126.91 KiB/1.34 MiB         \u001b[1A\n",
      "\u001b[2K\u001b[1A\u001b[37m⠙\u001b[0m \u001b[2mPreparing packages...\u001b[0m (0/2)--------------\u001b[0m\u001b[0m 142.91 KiB/1.34 MiB         \u001b[1A\n",
      "\u001b[2K\u001b[1A\u001b[37m⠙\u001b[0m \u001b[2mPreparing packages...\u001b[0m (0/2)--------------\u001b[0m\u001b[0m 158.91 KiB/1.34 MiB         \u001b[1A\n",
      "\u001b[2K\u001b[1A\u001b[37m⠙\u001b[0m \u001b[2mPreparing packages...\u001b[0m (0/2)--------------\u001b[0m\u001b[0m 174.91 KiB/1.34 MiB         \u001b[1A\n",
      "\u001b[2K\u001b[1A\u001b[37m⠙\u001b[0m \u001b[2mPreparing packages...\u001b[0m (0/2)--------------\u001b[0m\u001b[0m 190.91 KiB/1.34 MiB         \u001b[1A\n",
      "\u001b[2K\u001b[1A\u001b[37m⠙\u001b[0m \u001b[2mPreparing packages...\u001b[0m (0/2)--------------\u001b[0m\u001b[0m 206.20 KiB/1.34 MiB         \u001b[1A\n",
      "\u001b[2K\u001b[1A\u001b[37m⠙\u001b[0m \u001b[2mPreparing packages...\u001b[0m (0/2)--------------\u001b[0m\u001b[0m 222.20 KiB/1.34 MiB         \u001b[1A\n",
      "\u001b[2K\u001b[1A\u001b[37m⠙\u001b[0m \u001b[2mPreparing packages...\u001b[0m (0/2)--------------\u001b[0m\u001b[0m 238.20 KiB/1.34 MiB         \u001b[1A\n",
      "\u001b[2K\u001b[1A\u001b[37m⠙\u001b[0m \u001b[2mPreparing packages...\u001b[0m (0/2)--------------\u001b[0m\u001b[0m 254.20 KiB/1.34 MiB         \u001b[1A\n",
      "\u001b[2K   \u001b[36m\u001b[1mBuilding\u001b[0m\u001b[39m numpy\u001b[2m==1.26.4\u001b[0m                                                  \u001b[1A\n",
      "\u001b[2K\u001b[1A   \u001b[36m\u001b[1mBuilding\u001b[0m\u001b[39m numpy\u001b[2m==1.26.4\u001b[0m                                      \u001b[1A\n",
      "\u001b[2K\u001b[1A   \u001b[36m\u001b[1mBuilding\u001b[0m\u001b[39m numpy\u001b[2m==1.26.4\u001b[0m                                      \u001b[1A\n",
      "\u001b[2K\u001b[1A   \u001b[36m\u001b[1mBuilding\u001b[0m\u001b[39m numpy\u001b[2m==1.26.4\u001b[0m                                      \u001b[1A\n",
      "\u001b[2K\u001b[1A   \u001b[36m\u001b[1mBuilding\u001b[0m\u001b[39m numpy\u001b[2m==1.26.4\u001b[0m                                      \u001b[1A\n",
      "\u001b[2K\u001b[1A   \u001b[36m\u001b[1mBuilding\u001b[0m\u001b[39m numpy\u001b[2m==1.26.4\u001b[0m                                      \u001b[1A\n",
      "\u001b[2K\u001b[1A   \u001b[36m\u001b[1mBuilding\u001b[0m\u001b[39m numpy\u001b[2m==1.26.4\u001b[0m                                      \u001b[1A\n",
      "\u001b[2K\u001b[1A   \u001b[36m\u001b[1mBuilding\u001b[0m\u001b[39m numpy\u001b[2m==1.26.4\u001b[0m                                      \u001b[1A\n",
      "\u001b[2K\u001b[1A   \u001b[36m\u001b[1mBuilding\u001b[0m\u001b[39m numpy\u001b[2m==1.26.4\u001b[0m                                      \u001b[1A\n",
      "\u001b[2K\u001b[1A   \u001b[36m\u001b[1mBuilding\u001b[0m\u001b[39m numpy\u001b[2m==1.26.4\u001b[0m                                      \u001b[1A\n",
      "\u001b[2K\u001b[1A   \u001b[36m\u001b[1mBuilding\u001b[0m\u001b[39m numpy\u001b[2m==1.26.4\u001b[0m                                      \u001b[1A\n",
      "\u001b[2K\u001b[1A   \u001b[36m\u001b[1mBuilding\u001b[0m\u001b[39m numpy\u001b[2m==1.26.4\u001b[0m                                      \u001b[1A\n",
      "\u001b[2K\u001b[1A   \u001b[36m\u001b[1mBuilding\u001b[0m\u001b[39m numpy\u001b[2m==1.26.4\u001b[0m                                      \u001b[1A\n",
      "\u001b[2K\u001b[1A   \u001b[36m\u001b[1mBuilding\u001b[0m\u001b[39m numpy\u001b[2m==1.26.4\u001b[0m                                      \u001b[1A\n",
      "\u001b[2K\u001b[1A   \u001b[36m\u001b[1mBuilding\u001b[0m\u001b[39m numpy\u001b[2m==1.26.4\u001b[0m                                      \u001b[1A\n",
      "\u001b[2K\u001b[1A   \u001b[36m\u001b[1mBuilding\u001b[0m\u001b[39m numpy\u001b[2m==1.26.4\u001b[0m                                      \u001b[1A\n",
      "\u001b[2K\u001b[1A   \u001b[36m\u001b[1mBuilding\u001b[0m\u001b[39m numpy\u001b[2m==1.26.4\u001b[0m                                      \u001b[1A\n",
      "\u001b[2K\u001b[1A   \u001b[36m\u001b[1mBuilding\u001b[0m\u001b[39m numpy\u001b[2m==1.26.4\u001b[0m                                      \u001b[1A\n",
      "\u001b[2K\u001b[1A   \u001b[36m\u001b[1mBuilding\u001b[0m\u001b[39m numpy\u001b[2m==1.26.4\u001b[0m                                      \u001b[1A\n",
      "\u001b[2K\u001b[1A   \u001b[36m\u001b[1mBuilding\u001b[0m\u001b[39m numpy\u001b[2m==1.26.4\u001b[0m                                      \u001b[1A\n",
      "\u001b[2K\u001b[1A   \u001b[36m\u001b[1mBuilding\u001b[0m\u001b[39m numpy\u001b[2m==1.26.4\u001b[0m                                      \u001b[1A\n",
      "\u001b[2K\u001b[1A   \u001b[36m\u001b[1mBuilding\u001b[0m\u001b[39m numpy\u001b[2m==1.26.4\u001b[0m                                      \u001b[1A\n",
      "\u001b[2K\u001b[1A   \u001b[36m\u001b[1mBuilding\u001b[0m\u001b[39m numpy\u001b[2m==1.26.4\u001b[0m                                      \u001b[1A\n",
      "\u001b[2K\u001b[1A   \u001b[36m\u001b[1mBuilding\u001b[0m\u001b[39m numpy\u001b[2m==1.26.4\u001b[0m                                      \u001b[1A\n",
      "\u001b[2K\u001b[1A   \u001b[36m\u001b[1mBuilding\u001b[0m\u001b[39m numpy\u001b[2m==1.26.4\u001b[0m                                      \u001b[1A\n",
      "\u001b[2K\u001b[1A   \u001b[36m\u001b[1mBuilding\u001b[0m\u001b[39m numpy\u001b[2m==1.26.4\u001b[0m                                      \u001b[1A\n",
      "\u001b[2K\u001b[1A   \u001b[36m\u001b[1mBuilding\u001b[0m\u001b[39m numpy\u001b[2m==1.26.4\u001b[0m                                      \u001b[1A\n",
      "\u001b[2K\u001b[1A   \u001b[36m\u001b[1mBuilding\u001b[0m\u001b[39m numpy\u001b[2m==1.26.4\u001b[0m                                      \u001b[1A\n",
      "\u001b[2K\u001b[1A   \u001b[36m\u001b[1mBuilding\u001b[0m\u001b[39m numpy\u001b[2m==1.26.4\u001b[0m                                      \u001b[1A\n",
      "\u001b[2K\u001b[1A   \u001b[36m\u001b[1mBuilding\u001b[0m\u001b[39m numpy\u001b[2m==1.26.4\u001b[0m                                      \u001b[1A\n",
      "\u001b[2K\u001b[1A   \u001b[36m\u001b[1mBuilding\u001b[0m\u001b[39m numpy\u001b[2m==1.26.4\u001b[0m                                      \u001b[1A\n",
      "\u001b[2K\u001b[1A   \u001b[36m\u001b[1mBuilding\u001b[0m\u001b[39m numpy\u001b[2m==1.26.4\u001b[0m                                      \u001b[1A\n",
      "\u001b[2K\u001b[1A   \u001b[36m\u001b[1mBuilding\u001b[0m\u001b[39m numpy\u001b[2m==1.26.4\u001b[0m                                      \u001b[1A\n",
      "\u001b[2K\u001b[1A   \u001b[36m\u001b[1mBuilding\u001b[0m\u001b[39m numpy\u001b[2m==1.26.4\u001b[0m                                      \u001b[1A\n",
      "\u001b[2K\u001b[1A   \u001b[36m\u001b[1mBuilding\u001b[0m\u001b[39m numpy\u001b[2m==1.26.4\u001b[0m                                      \u001b[1A\n",
      "\u001b[2K\u001b[1A   \u001b[36m\u001b[1mBuilding\u001b[0m\u001b[39m numpy\u001b[2m==1.26.4\u001b[0m                                      \u001b[1A\n",
      "\u001b[2K\u001b[1A   \u001b[36m\u001b[1mBuilding\u001b[0m\u001b[39m numpy\u001b[2m==1.26.4\u001b[0m                                      \u001b[1A\n",
      "\u001b[2K\u001b[1A   \u001b[36m\u001b[1mBuilding\u001b[0m\u001b[39m numpy\u001b[2m==1.26.4\u001b[0m                                      \u001b[1A\n",
      "\u001b[2K\u001b[1A   \u001b[36m\u001b[1mBuilding\u001b[0m\u001b[39m numpy\u001b[2m==1.26.4\u001b[0m                                      \u001b[1A\n",
      "\u001b[2K\u001b[1A   \u001b[36m\u001b[1mBuilding\u001b[0m\u001b[39m numpy\u001b[2m==1.26.4\u001b[0m                                      \u001b[1A\n",
      "\u001b[2K\u001b[1A   \u001b[36m\u001b[1mBuilding\u001b[0m\u001b[39m numpy\u001b[2m==1.26.4\u001b[0m                                      \u001b[1A\n",
      "\u001b[2K\u001b[1A   \u001b[36m\u001b[1mBuilding\u001b[0m\u001b[39m numpy\u001b[2m==1.26.4\u001b[0m                                      \u001b[1A\n",
      "\u001b[2K\u001b[1A   \u001b[36m\u001b[1mBuilding\u001b[0m\u001b[39m numpy\u001b[2m==1.26.4\u001b[0m                                      \u001b[1A\n",
      "\u001b[2K\u001b[1A   \u001b[36m\u001b[1mBuilding\u001b[0m\u001b[39m numpy\u001b[2m==1.26.4\u001b[0m                                      \u001b[1A\n",
      "\u001b[2K\u001b[1A   \u001b[36m\u001b[1mBuilding\u001b[0m\u001b[39m numpy\u001b[2m==1.26.4\u001b[0m                                      \u001b[1A\n",
      "\u001b[2K\u001b[1A   \u001b[36m\u001b[1mBuilding\u001b[0m\u001b[39m numpy\u001b[2m==1.26.4\u001b[0m                                      \u001b[1A\n",
      "\u001b[2K\u001b[1A   \u001b[36m\u001b[1mBuilding\u001b[0m\u001b[39m numpy\u001b[2m==1.26.4\u001b[0m                                      \u001b[1A\n",
      "\u001b[2K\u001b[1A   \u001b[36m\u001b[1mBuilding\u001b[0m\u001b[39m numpy\u001b[2m==1.26.4\u001b[0m                                      \u001b[1A\n",
      "\u001b[2K\u001b[1A   \u001b[36m\u001b[1mBuilding\u001b[0m\u001b[39m numpy\u001b[2m==1.26.4\u001b[0m                                      \u001b[1A\n",
      "\u001b[2K\u001b[1A   \u001b[36m\u001b[1mBuilding\u001b[0m\u001b[39m numpy\u001b[2m==1.26.4\u001b[0m                                      \u001b[1A\n",
      "\u001b[2K\u001b[1A   \u001b[36m\u001b[1mBuilding\u001b[0m\u001b[39m numpy\u001b[2m==1.26.4\u001b[0m                                      \u001b[1A\n",
      "\u001b[2K\u001b[1A   \u001b[36m\u001b[1mBuilding\u001b[0m\u001b[39m numpy\u001b[2m==1.26.4\u001b[0m                                      \u001b[1A\n",
      "\u001b[2K\u001b[1A   \u001b[36m\u001b[1mBuilding\u001b[0m\u001b[39m numpy\u001b[2m==1.26.4\u001b[0m                                      \u001b[1A\n",
      "\u001b[2K\u001b[1A   \u001b[36m\u001b[1mBuilding\u001b[0m\u001b[39m numpy\u001b[2m==1.26.4\u001b[0m                                      \u001b[1A\n",
      "\u001b[2K\u001b[1A   \u001b[36m\u001b[1mBuilding\u001b[0m\u001b[39m numpy\u001b[2m==1.26.4\u001b[0m                                      \u001b[1A\n",
      "\u001b[2K\u001b[1A   \u001b[36m\u001b[1mBuilding\u001b[0m\u001b[39m numpy\u001b[2m==1.26.4\u001b[0m                                      \u001b[1A\n",
      "\u001b[2K\u001b[1A   \u001b[36m\u001b[1mBuilding\u001b[0m\u001b[39m numpy\u001b[2m==1.26.4\u001b[0m                                      \u001b[1A\n",
      "\u001b[2K\u001b[1A   \u001b[36m\u001b[1mBuilding\u001b[0m\u001b[39m numpy\u001b[2m==1.26.4\u001b[0m                                      \u001b[1A\n",
      "\u001b[2K\u001b[1A   \u001b[36m\u001b[1mBuilding\u001b[0m\u001b[39m numpy\u001b[2m==1.26.4\u001b[0m                                      \u001b[1A\n",
      "\u001b[2K\u001b[1A   \u001b[36m\u001b[1mBuilding\u001b[0m\u001b[39m numpy\u001b[2m==1.26.4\u001b[0m                                      \u001b[1A\n",
      "\u001b[2K\u001b[1A   \u001b[36m\u001b[1mBuilding\u001b[0m\u001b[39m numpy\u001b[2m==1.26.4\u001b[0m                                      \u001b[1A\n",
      "\u001b[2K\u001b[1A   \u001b[36m\u001b[1mBuilding\u001b[0m\u001b[39m numpy\u001b[2m==1.26.4\u001b[0m                                      \u001b[1A\n",
      "\u001b[2K\u001b[1A   \u001b[36m\u001b[1mBuilding\u001b[0m\u001b[39m numpy\u001b[2m==1.26.4\u001b[0m                                      \u001b[1A\n",
      "\u001b[2K\u001b[1A   \u001b[36m\u001b[1mBuilding\u001b[0m\u001b[39m numpy\u001b[2m==1.26.4\u001b[0m                                      \u001b[1A\n",
      "\u001b[2K\u001b[1A   \u001b[36m\u001b[1mBuilding\u001b[0m\u001b[39m numpy\u001b[2m==1.26.4\u001b[0m                                      \u001b[1A\n",
      "\u001b[2K\u001b[1A   \u001b[36m\u001b[1mBuilding\u001b[0m\u001b[39m numpy\u001b[2m==1.26.4\u001b[0m                                      \u001b[1A\n",
      "\u001b[2K\u001b[1A   \u001b[36m\u001b[1mBuilding\u001b[0m\u001b[39m numpy\u001b[2m==1.26.4\u001b[0m                                      \u001b[1A\n",
      "\u001b[2K\u001b[1A   \u001b[36m\u001b[1mBuilding\u001b[0m\u001b[39m numpy\u001b[2m==1.26.4\u001b[0m                                      \u001b[1A\n",
      "\u001b[2K\u001b[1A   \u001b[36m\u001b[1mBuilding\u001b[0m\u001b[39m numpy\u001b[2m==1.26.4\u001b[0m                                      \u001b[1A\n",
      "\u001b[2K\u001b[1A   \u001b[36m\u001b[1mBuilding\u001b[0m\u001b[39m numpy\u001b[2m==1.26.4\u001b[0m                                      \u001b[1A\n",
      "\u001b[2K\u001b[1A   \u001b[36m\u001b[1mBuilding\u001b[0m\u001b[39m numpy\u001b[2m==1.26.4\u001b[0m                                      \u001b[1A\n",
      "\u001b[2K\u001b[1A   \u001b[36m\u001b[1mBuilding\u001b[0m\u001b[39m numpy\u001b[2m==1.26.4\u001b[0m                                      \u001b[1A\n",
      "\u001b[2K\u001b[1A   \u001b[36m\u001b[1mBuilding\u001b[0m\u001b[39m numpy\u001b[2m==1.26.4\u001b[0m                                      \u001b[1A\n",
      "\u001b[2K\u001b[1A   \u001b[36m\u001b[1mBuilding\u001b[0m\u001b[39m numpy\u001b[2m==1.26.4\u001b[0m                                      \u001b[1A\n",
      "\u001b[2K\u001b[1A   \u001b[36m\u001b[1mBuilding\u001b[0m\u001b[39m numpy\u001b[2m==1.26.4\u001b[0m                                      \u001b[1A\n",
      "\u001b[2K\u001b[1A   \u001b[36m\u001b[1mBuilding\u001b[0m\u001b[39m numpy\u001b[2m==1.26.4\u001b[0m                                      \u001b[1A\n",
      "\u001b[2K\u001b[1A   \u001b[36m\u001b[1mBuilding\u001b[0m\u001b[39m numpy\u001b[2m==1.26.4\u001b[0m                                      \u001b[1A\n",
      "\u001b[2K\u001b[1A   \u001b[36m\u001b[1mBuilding\u001b[0m\u001b[39m numpy\u001b[2m==1.26.4\u001b[0m                                      \u001b[1A\n",
      "\u001b[2K\u001b[1A   \u001b[36m\u001b[1mBuilding\u001b[0m\u001b[39m numpy\u001b[2m==1.26.4\u001b[0m                                      \u001b[1A\n",
      "\u001b[2K\u001b[1A   \u001b[36m\u001b[1mBuilding\u001b[0m\u001b[39m numpy\u001b[2m==1.26.4\u001b[0m                                      \u001b[1A\n",
      "\u001b[2K\u001b[1A   \u001b[36m\u001b[1mBuilding\u001b[0m\u001b[39m numpy\u001b[2m==1.26.4\u001b[0m                                      \u001b[1A\n",
      "\u001b[2K\u001b[1A   \u001b[36m\u001b[1mBuilding\u001b[0m\u001b[39m numpy\u001b[2m==1.26.4\u001b[0m                                      \u001b[1A\n",
      "\u001b[2K\u001b[1A   \u001b[36m\u001b[1mBuilding\u001b[0m\u001b[39m numpy\u001b[2m==1.26.4\u001b[0m                                      \u001b[1A\n",
      "\u001b[2K\u001b[1A   \u001b[36m\u001b[1mBuilding\u001b[0m\u001b[39m numpy\u001b[2m==1.26.4\u001b[0m                                      \u001b[1A\n",
      "\u001b[2K\u001b[1A   \u001b[36m\u001b[1mBuilding\u001b[0m\u001b[39m numpy\u001b[2m==1.26.4\u001b[0m                                      \u001b[1A\n",
      "\u001b[2K\u001b[1A   \u001b[36m\u001b[1mBuilding\u001b[0m\u001b[39m numpy\u001b[2m==1.26.4\u001b[0m                                      \u001b[1A\n",
      "\u001b[2K\u001b[1A   \u001b[36m\u001b[1mBuilding\u001b[0m\u001b[39m numpy\u001b[2m==1.26.4\u001b[0m                                      \u001b[1A\n",
      "\u001b[2K\u001b[1A   \u001b[36m\u001b[1mBuilding\u001b[0m\u001b[39m numpy\u001b[2m==1.26.4\u001b[0m                                      \u001b[1A\n",
      "\u001b[2K\u001b[1A   \u001b[36m\u001b[1mBuilding\u001b[0m\u001b[39m numpy\u001b[2m==1.26.4\u001b[0m                                      \u001b[1A\n",
      "\u001b[2K\u001b[1A   \u001b[36m\u001b[1mBuilding\u001b[0m\u001b[39m numpy\u001b[2m==1.26.4\u001b[0m                                      \u001b[1A\n",
      "\u001b[2K\u001b[1A   \u001b[36m\u001b[1mBuilding\u001b[0m\u001b[39m numpy\u001b[2m==1.26.4\u001b[0m                                      \u001b[1A\n",
      "\u001b[2K\u001b[1A   \u001b[36m\u001b[1mBuilding\u001b[0m\u001b[39m numpy\u001b[2m==1.26.4\u001b[0m                                      \u001b[1A\n",
      "\u001b[2K\u001b[1A   \u001b[36m\u001b[1mBuilding\u001b[0m\u001b[39m numpy\u001b[2m==1.26.4\u001b[0m                                      \u001b[1A\n",
      "\u001b[2K\u001b[1A   \u001b[36m\u001b[1mBuilding\u001b[0m\u001b[39m numpy\u001b[2m==1.26.4\u001b[0m                                      \u001b[1A\n",
      "\u001b[2K\u001b[1A   \u001b[36m\u001b[1mBuilding\u001b[0m\u001b[39m numpy\u001b[2m==1.26.4\u001b[0m                                      \u001b[1A\n",
      "\u001b[2K\u001b[1A   \u001b[36m\u001b[1mBuilding\u001b[0m\u001b[39m numpy\u001b[2m==1.26.4\u001b[0m                                      \u001b[1A\n",
      "\u001b[2K\u001b[1A   \u001b[36m\u001b[1mBuilding\u001b[0m\u001b[39m numpy\u001b[2m==1.26.4\u001b[0m                                      \u001b[1A\n",
      "\u001b[2K\u001b[1A   \u001b[36m\u001b[1mBuilding\u001b[0m\u001b[39m numpy\u001b[2m==1.26.4\u001b[0m                                      \u001b[1A\n",
      "\u001b[2K\u001b[1A   \u001b[36m\u001b[1mBuilding\u001b[0m\u001b[39m numpy\u001b[2m==1.26.4\u001b[0m                                      \u001b[1A\n",
      "\u001b[2K\u001b[1A   \u001b[36m\u001b[1mBuilding\u001b[0m\u001b[39m numpy\u001b[2m==1.26.4\u001b[0m                                      \u001b[1A\n",
      "\u001b[2K\u001b[1A   \u001b[36m\u001b[1mBuilding\u001b[0m\u001b[39m numpy\u001b[2m==1.26.4\u001b[0m                                      \u001b[1A\n",
      "\u001b[2K\u001b[1A   \u001b[36m\u001b[1mBuilding\u001b[0m\u001b[39m numpy\u001b[2m==1.26.4\u001b[0m                                      \u001b[1A\n",
      "\u001b[2K\u001b[1A   \u001b[36m\u001b[1mBuilding\u001b[0m\u001b[39m numpy\u001b[2m==1.26.4\u001b[0m                                      \u001b[1A\n",
      "\u001b[2K\u001b[1A   \u001b[36m\u001b[1mBuilding\u001b[0m\u001b[39m numpy\u001b[2m==1.26.4\u001b[0m                                      \u001b[1A\n",
      "\u001b[2K\u001b[1A   \u001b[36m\u001b[1mBuilding\u001b[0m\u001b[39m numpy\u001b[2m==1.26.4\u001b[0m                                      \u001b[1A\n",
      "\u001b[2K\u001b[1A   \u001b[36m\u001b[1mBuilding\u001b[0m\u001b[39m numpy\u001b[2m==1.26.4\u001b[0m                                      \u001b[1A\n",
      "\u001b[2K\u001b[1A   \u001b[36m\u001b[1mBuilding\u001b[0m\u001b[39m numpy\u001b[2m==1.26.4\u001b[0m                                      \u001b[1A\n",
      "\u001b[2K\u001b[1A   \u001b[36m\u001b[1mBuilding\u001b[0m\u001b[39m numpy\u001b[2m==1.26.4\u001b[0m                                      \u001b[1A\n",
      "\u001b[2K\u001b[1A   \u001b[36m\u001b[1mBuilding\u001b[0m\u001b[39m numpy\u001b[2m==1.26.4\u001b[0m                                      \u001b[1A\n",
      "\u001b[2K\u001b[1A   \u001b[36m\u001b[1mBuilding\u001b[0m\u001b[39m numpy\u001b[2m==1.26.4\u001b[0m                                      \u001b[1A\n",
      "\u001b[2K\u001b[1A   \u001b[36m\u001b[1mBuilding\u001b[0m\u001b[39m numpy\u001b[2m==1.26.4\u001b[0m                                      \u001b[1A\n",
      "\u001b[2K\u001b[1A   \u001b[36m\u001b[1mBuilding\u001b[0m\u001b[39m numpy\u001b[2m==1.26.4\u001b[0m                                      \u001b[1A\n",
      "\u001b[2K\u001b[1A   \u001b[36m\u001b[1mBuilding\u001b[0m\u001b[39m numpy\u001b[2m==1.26.4\u001b[0m                                      \u001b[1A\n",
      "\u001b[2K\u001b[1A   \u001b[36m\u001b[1mBuilding\u001b[0m\u001b[39m numpy\u001b[2m==1.26.4\u001b[0m                                      \u001b[1A\n",
      "\u001b[2K\u001b[1A   \u001b[36m\u001b[1mBuilding\u001b[0m\u001b[39m numpy\u001b[2m==1.26.4\u001b[0m                                      \u001b[1A\n",
      "\u001b[2K\u001b[1A   \u001b[36m\u001b[1mBuilding\u001b[0m\u001b[39m numpy\u001b[2m==1.26.4\u001b[0m                                      \u001b[1A\n",
      "\u001b[2K\u001b[1A   \u001b[36m\u001b[1mBuilding\u001b[0m\u001b[39m numpy\u001b[2m==1.26.4\u001b[0m                                      \u001b[1A\n",
      "\u001b[2K\u001b[1A   \u001b[36m\u001b[1mBuilding\u001b[0m\u001b[39m numpy\u001b[2m==1.26.4\u001b[0m                                      \u001b[1A\n",
      "\u001b[2K\u001b[1A   \u001b[36m\u001b[1mBuilding\u001b[0m\u001b[39m numpy\u001b[2m==1.26.4\u001b[0m                                      \u001b[1A\n",
      "\u001b[2K\u001b[1A   \u001b[36m\u001b[1mBuilding\u001b[0m\u001b[39m numpy\u001b[2m==1.26.4\u001b[0m                                      \u001b[1A\n",
      "\u001b[2K\u001b[1A   \u001b[36m\u001b[1mBuilding\u001b[0m\u001b[39m numpy\u001b[2m==1.26.4\u001b[0m                                      \u001b[1A\n",
      "\u001b[2K\u001b[1A   \u001b[36m\u001b[1mBuilding\u001b[0m\u001b[39m numpy\u001b[2m==1.26.4\u001b[0m                                      \u001b[1A\n",
      "\u001b[2K\u001b[1A   \u001b[36m\u001b[1mBuilding\u001b[0m\u001b[39m numpy\u001b[2m==1.26.4\u001b[0m                                      \u001b[1A\n",
      "\u001b[2K\u001b[1A   \u001b[36m\u001b[1mBuilding\u001b[0m\u001b[39m numpy\u001b[2m==1.26.4\u001b[0m                                      \u001b[1A\n",
      "\u001b[2K\u001b[1A   \u001b[36m\u001b[1mBuilding\u001b[0m\u001b[39m numpy\u001b[2m==1.26.4\u001b[0m                                      \u001b[1A\n",
      "\u001b[2K\u001b[1A   \u001b[36m\u001b[1mBuilding\u001b[0m\u001b[39m numpy\u001b[2m==1.26.4\u001b[0m                                      \u001b[1A\n",
      "\u001b[2K\u001b[1A   \u001b[36m\u001b[1mBuilding\u001b[0m\u001b[39m numpy\u001b[2m==1.26.4\u001b[0m                                      \u001b[1A\n",
      "\u001b[2K\u001b[1A   \u001b[36m\u001b[1mBuilding\u001b[0m\u001b[39m numpy\u001b[2m==1.26.4\u001b[0m                                      \u001b[1A\n",
      "\u001b[2K\u001b[1A   \u001b[36m\u001b[1mBuilding\u001b[0m\u001b[39m numpy\u001b[2m==1.26.4\u001b[0m                                      \u001b[1A\n",
      "\u001b[2K\u001b[1A   \u001b[36m\u001b[1mBuilding\u001b[0m\u001b[39m numpy\u001b[2m==1.26.4\u001b[0m                                      \u001b[1A\n",
      "\u001b[2K\u001b[1A   \u001b[36m\u001b[1mBuilding\u001b[0m\u001b[39m numpy\u001b[2m==1.26.4\u001b[0m                                      \u001b[1A\n",
      "\u001b[2K\u001b[1A   \u001b[36m\u001b[1mBuilding\u001b[0m\u001b[39m numpy\u001b[2m==1.26.4\u001b[0m                                      \u001b[1A\n",
      "\u001b[2K\u001b[1A   \u001b[36m\u001b[1mBuilding\u001b[0m\u001b[39m numpy\u001b[2m==1.26.4\u001b[0m                                      \u001b[1A\n",
      "\u001b[2K\u001b[1A   \u001b[36m\u001b[1mBuilding\u001b[0m\u001b[39m numpy\u001b[2m==1.26.4\u001b[0m                                      \u001b[1A\n",
      "\u001b[2K\u001b[1A   \u001b[36m\u001b[1mBuilding\u001b[0m\u001b[39m numpy\u001b[2m==1.26.4\u001b[0m                                      \u001b[1A\n",
      "\u001b[2K\u001b[1A   \u001b[36m\u001b[1mBuilding\u001b[0m\u001b[39m numpy\u001b[2m==1.26.4\u001b[0m                                      \u001b[1A\n",
      "\u001b[2K\u001b[1A   \u001b[36m\u001b[1mBuilding\u001b[0m\u001b[39m numpy\u001b[2m==1.26.4\u001b[0m                                      \u001b[1A\n",
      "\u001b[2K\u001b[1A   \u001b[36m\u001b[1mBuilding\u001b[0m\u001b[39m numpy\u001b[2m==1.26.4\u001b[0m                                      \u001b[1A\n",
      "\u001b[2K\u001b[1A   \u001b[36m\u001b[1mBuilding\u001b[0m\u001b[39m numpy\u001b[2m==1.26.4\u001b[0m                                      \u001b[1A\n",
      "\u001b[2K\u001b[1A   \u001b[36m\u001b[1mBuilding\u001b[0m\u001b[39m numpy\u001b[2m==1.26.4\u001b[0m                                      \u001b[1A\n",
      "\u001b[2K\u001b[1A   \u001b[36m\u001b[1mBuilding\u001b[0m\u001b[39m numpy\u001b[2m==1.26.4\u001b[0m                                      \u001b[1A\n",
      "\u001b[2K\u001b[1A   \u001b[36m\u001b[1mBuilding\u001b[0m\u001b[39m numpy\u001b[2m==1.26.4\u001b[0m                                      \u001b[1A\n",
      "\u001b[2K\u001b[1A   \u001b[36m\u001b[1mBuilding\u001b[0m\u001b[39m numpy\u001b[2m==1.26.4\u001b[0m                                      \u001b[1A\n",
      "\u001b[2K\u001b[1A   \u001b[36m\u001b[1mBuilding\u001b[0m\u001b[39m numpy\u001b[2m==1.26.4\u001b[0m                                      \u001b[1A\n",
      "\u001b[2K\u001b[1A   \u001b[36m\u001b[1mBuilding\u001b[0m\u001b[39m numpy\u001b[2m==1.26.4\u001b[0m                                      \u001b[1A\n",
      "\u001b[2K\u001b[1A   \u001b[36m\u001b[1mBuilding\u001b[0m\u001b[39m numpy\u001b[2m==1.26.4\u001b[0m                                      \u001b[1A\n",
      "\u001b[2K\u001b[1A   \u001b[36m\u001b[1mBuilding\u001b[0m\u001b[39m numpy\u001b[2m==1.26.4\u001b[0m                                      \u001b[1A\n",
      "\u001b[2K\u001b[1A   \u001b[36m\u001b[1mBuilding\u001b[0m\u001b[39m numpy\u001b[2m==1.26.4\u001b[0m                                      \u001b[1A\n",
      "\u001b[2K\u001b[1A   \u001b[36m\u001b[1mBuilding\u001b[0m\u001b[39m numpy\u001b[2m==1.26.4\u001b[0m                                      \u001b[1A\n",
      "\u001b[2K\u001b[1A   \u001b[36m\u001b[1mBuilding\u001b[0m\u001b[39m numpy\u001b[2m==1.26.4\u001b[0m                                      \u001b[1A\n",
      "\u001b[2K\u001b[1A   \u001b[36m\u001b[1mBuilding\u001b[0m\u001b[39m numpy\u001b[2m==1.26.4\u001b[0m                                      \u001b[1A\n",
      "\u001b[2K\u001b[1A   \u001b[36m\u001b[1mBuilding\u001b[0m\u001b[39m numpy\u001b[2m==1.26.4\u001b[0m                                      \u001b[1A\n",
      "\u001b[2K\u001b[1A   \u001b[36m\u001b[1mBuilding\u001b[0m\u001b[39m numpy\u001b[2m==1.26.4\u001b[0m                                      \u001b[1A\n",
      "\u001b[2K\u001b[1A   \u001b[36m\u001b[1mBuilding\u001b[0m\u001b[39m numpy\u001b[2m==1.26.4\u001b[0m                                      \u001b[1A\n",
      "\u001b[2K\u001b[1A   \u001b[36m\u001b[1mBuilding\u001b[0m\u001b[39m numpy\u001b[2m==1.26.4\u001b[0m                                      \u001b[1A\n",
      "\u001b[2K\u001b[1A   \u001b[36m\u001b[1mBuilding\u001b[0m\u001b[39m numpy\u001b[2m==1.26.4\u001b[0m                                      \u001b[1A\n",
      "\u001b[2K\u001b[1A   \u001b[36m\u001b[1mBuilding\u001b[0m\u001b[39m numpy\u001b[2m==1.26.4\u001b[0m                                      \u001b[1A\n",
      "\u001b[2K\u001b[1A   \u001b[36m\u001b[1mBuilding\u001b[0m\u001b[39m numpy\u001b[2m==1.26.4\u001b[0m                                      \u001b[1A\n",
      "\u001b[2K\u001b[1A   \u001b[36m\u001b[1mBuilding\u001b[0m\u001b[39m numpy\u001b[2m==1.26.4\u001b[0m                                      \u001b[1A\n",
      "\u001b[2K\u001b[1A   \u001b[36m\u001b[1mBuilding\u001b[0m\u001b[39m numpy\u001b[2m==1.26.4\u001b[0m                                      \u001b[1A\n",
      "\u001b[2K\u001b[1A   \u001b[36m\u001b[1mBuilding\u001b[0m\u001b[39m numpy\u001b[2m==1.26.4\u001b[0m                                      \u001b[1A\n",
      "\u001b[2K\u001b[1A   \u001b[36m\u001b[1mBuilding\u001b[0m\u001b[39m numpy\u001b[2m==1.26.4\u001b[0m                                      \u001b[1A\n",
      "\u001b[2K\u001b[1A   \u001b[36m\u001b[1mBuilding\u001b[0m\u001b[39m numpy\u001b[2m==1.26.4\u001b[0m                                      \u001b[1A\n",
      "\u001b[2K\u001b[1A   \u001b[36m\u001b[1mBuilding\u001b[0m\u001b[39m numpy\u001b[2m==1.26.4\u001b[0m                                      \u001b[1A\n",
      "\u001b[2K\u001b[1A   \u001b[36m\u001b[1mBuilding\u001b[0m\u001b[39m numpy\u001b[2m==1.26.4\u001b[0m                                      \u001b[1A\n",
      "\u001b[2K\u001b[1A   \u001b[36m\u001b[1mBuilding\u001b[0m\u001b[39m numpy\u001b[2m==1.26.4\u001b[0m                                      \u001b[1A\n",
      "\u001b[2K\u001b[1A   \u001b[36m\u001b[1mBuilding\u001b[0m\u001b[39m numpy\u001b[2m==1.26.4\u001b[0m                                      \u001b[1A\n",
      "\u001b[2K\u001b[1A   \u001b[36m\u001b[1mBuilding\u001b[0m\u001b[39m numpy\u001b[2m==1.26.4\u001b[0m                                      \u001b[1A\n",
      "\u001b[2K\u001b[1A   \u001b[36m\u001b[1mBuilding\u001b[0m\u001b[39m numpy\u001b[2m==1.26.4\u001b[0m                                      \u001b[1A\n",
      "\u001b[2K\u001b[1A   \u001b[36m\u001b[1mBuilding\u001b[0m\u001b[39m numpy\u001b[2m==1.26.4\u001b[0m                                      \u001b[1A\n",
      "\u001b[2K\u001b[1A   \u001b[36m\u001b[1mBuilding\u001b[0m\u001b[39m numpy\u001b[2m==1.26.4\u001b[0m                                      \u001b[1A\n",
      "\u001b[2K\u001b[1A   \u001b[36m\u001b[1mBuilding\u001b[0m\u001b[39m numpy\u001b[2m==1.26.4\u001b[0m                                      \u001b[1A\n",
      "\u001b[2K\u001b[1A   \u001b[36m\u001b[1mBuilding\u001b[0m\u001b[39m numpy\u001b[2m==1.26.4\u001b[0m                                      \u001b[1A\n",
      "\u001b[2K\u001b[1A   \u001b[36m\u001b[1mBuilding\u001b[0m\u001b[39m numpy\u001b[2m==1.26.4\u001b[0m                                      \u001b[1A\n",
      "\u001b[2K\u001b[1A   \u001b[36m\u001b[1mBuilding\u001b[0m\u001b[39m numpy\u001b[2m==1.26.4\u001b[0m                                      \u001b[1A\n",
      "\u001b[2K\u001b[1A   \u001b[36m\u001b[1mBuilding\u001b[0m\u001b[39m numpy\u001b[2m==1.26.4\u001b[0m                                      \u001b[1A\n",
      "\u001b[2K\u001b[1A   \u001b[36m\u001b[1mBuilding\u001b[0m\u001b[39m numpy\u001b[2m==1.26.4\u001b[0m                                      \u001b[1A\n",
      "\u001b[2K\u001b[1A   \u001b[36m\u001b[1mBuilding\u001b[0m\u001b[39m numpy\u001b[2m==1.26.4\u001b[0m                                      \u001b[1A\n",
      "\u001b[2K\u001b[1A   \u001b[36m\u001b[1mBuilding\u001b[0m\u001b[39m numpy\u001b[2m==1.26.4\u001b[0m                                      \u001b[1A\n",
      "\u001b[2K\u001b[1A   \u001b[36m\u001b[1mBuilding\u001b[0m\u001b[39m numpy\u001b[2m==1.26.4\u001b[0m                                      \u001b[1A\n",
      "\u001b[2K\u001b[1A   \u001b[36m\u001b[1mBuilding\u001b[0m\u001b[39m numpy\u001b[2m==1.26.4\u001b[0m                                      \u001b[1A\n",
      "\u001b[2K\u001b[1A   \u001b[36m\u001b[1mBuilding\u001b[0m\u001b[39m numpy\u001b[2m==1.26.4\u001b[0m                                      \u001b[1A\n",
      "\u001b[2K\u001b[1A   \u001b[36m\u001b[1mBuilding\u001b[0m\u001b[39m numpy\u001b[2m==1.26.4\u001b[0m                                      \u001b[1A\n",
      "\u001b[2K\u001b[1A   \u001b[36m\u001b[1mBuilding\u001b[0m\u001b[39m numpy\u001b[2m==1.26.4\u001b[0m                                      \u001b[1A\n",
      "\u001b[2K\u001b[1A   \u001b[36m\u001b[1mBuilding\u001b[0m\u001b[39m numpy\u001b[2m==1.26.4\u001b[0m                                      \u001b[1A\n",
      "\u001b[2K\u001b[1A   \u001b[36m\u001b[1mBuilding\u001b[0m\u001b[39m numpy\u001b[2m==1.26.4\u001b[0m                                      \u001b[1A\n",
      "\u001b[2K\u001b[1A   \u001b[36m\u001b[1mBuilding\u001b[0m\u001b[39m numpy\u001b[2m==1.26.4\u001b[0m                                      \u001b[1A\n",
      "\u001b[2K\u001b[1A   \u001b[36m\u001b[1mBuilding\u001b[0m\u001b[39m numpy\u001b[2m==1.26.4\u001b[0m                                      \u001b[1A\n",
      "\u001b[2K\u001b[1A   \u001b[36m\u001b[1mBuilding\u001b[0m\u001b[39m numpy\u001b[2m==1.26.4\u001b[0m                                      \u001b[1A\n",
      "\u001b[2K\u001b[1A   \u001b[36m\u001b[1mBuilding\u001b[0m\u001b[39m numpy\u001b[2m==1.26.4\u001b[0m                                      \u001b[1A\n",
      "\u001b[2K\u001b[1A   \u001b[36m\u001b[1mBuilding\u001b[0m\u001b[39m numpy\u001b[2m==1.26.4\u001b[0m                                      \u001b[1A\n",
      "\u001b[2K\u001b[1A   \u001b[36m\u001b[1mBuilding\u001b[0m\u001b[39m numpy\u001b[2m==1.26.4\u001b[0m                                      \u001b[1A\n",
      "\u001b[2K\u001b[1A   \u001b[36m\u001b[1mBuilding\u001b[0m\u001b[39m numpy\u001b[2m==1.26.4\u001b[0m                                      \u001b[1A\n",
      "\u001b[2K\u001b[1A   \u001b[36m\u001b[1mBuilding\u001b[0m\u001b[39m numpy\u001b[2m==1.26.4\u001b[0m                                      \u001b[1A\n",
      "\u001b[2K\u001b[1A   \u001b[36m\u001b[1mBuilding\u001b[0m\u001b[39m numpy\u001b[2m==1.26.4\u001b[0m                                      \u001b[1A\n",
      "\u001b[2K\u001b[1A   \u001b[36m\u001b[1mBuilding\u001b[0m\u001b[39m numpy\u001b[2m==1.26.4\u001b[0m                                      \u001b[1A\n",
      "\u001b[2K\u001b[1A   \u001b[36m\u001b[1mBuilding\u001b[0m\u001b[39m numpy\u001b[2m==1.26.4\u001b[0m                                      \u001b[1A\n",
      "\u001b[2K\u001b[1A   \u001b[36m\u001b[1mBuilding\u001b[0m\u001b[39m numpy\u001b[2m==1.26.4\u001b[0m                                      \u001b[1A\n",
      "\u001b[2K\u001b[1A   \u001b[36m\u001b[1mBuilding\u001b[0m\u001b[39m numpy\u001b[2m==1.26.4\u001b[0m                                      \u001b[1A\n",
      "\u001b[2K\u001b[1A   \u001b[36m\u001b[1mBuilding\u001b[0m\u001b[39m numpy\u001b[2m==1.26.4\u001b[0m                                      \u001b[1A\n",
      "\u001b[2K\u001b[1A   \u001b[36m\u001b[1mBuilding\u001b[0m\u001b[39m numpy\u001b[2m==1.26.4\u001b[0m                                      \u001b[1A\n",
      "\u001b[2K\u001b[1A   \u001b[36m\u001b[1mBuilding\u001b[0m\u001b[39m numpy\u001b[2m==1.26.4\u001b[0m                                      \u001b[1A\n",
      "\u001b[2K\u001b[1A   \u001b[36m\u001b[1mBuilding\u001b[0m\u001b[39m numpy\u001b[2m==1.26.4\u001b[0m                                      \u001b[1A\n",
      "\u001b[2K\u001b[1A   \u001b[36m\u001b[1mBuilding\u001b[0m\u001b[39m numpy\u001b[2m==1.26.4\u001b[0m                                      \u001b[1A\n",
      "\u001b[2K\u001b[1A   \u001b[36m\u001b[1mBuilding\u001b[0m\u001b[39m numpy\u001b[2m==1.26.4\u001b[0m                                      \u001b[1A\n",
      "\u001b[2K\u001b[1A   \u001b[36m\u001b[1mBuilding\u001b[0m\u001b[39m numpy\u001b[2m==1.26.4\u001b[0m                                      \u001b[1A\n",
      "\u001b[2K\u001b[1A   \u001b[36m\u001b[1mBuilding\u001b[0m\u001b[39m numpy\u001b[2m==1.26.4\u001b[0m                                      \u001b[1A\n",
      "\u001b[2K\u001b[1A   \u001b[36m\u001b[1mBuilding\u001b[0m\u001b[39m numpy\u001b[2m==1.26.4\u001b[0m                                      \u001b[1A\n",
      "\u001b[2K\u001b[1A   \u001b[36m\u001b[1mBuilding\u001b[0m\u001b[39m numpy\u001b[2m==1.26.4\u001b[0m                                      \u001b[1A\n",
      "\u001b[2K\u001b[1A   \u001b[36m\u001b[1mBuilding\u001b[0m\u001b[39m numpy\u001b[2m==1.26.4\u001b[0m                                      \u001b[1A\n",
      "\u001b[2K\u001b[1A   \u001b[36m\u001b[1mBuilding\u001b[0m\u001b[39m numpy\u001b[2m==1.26.4\u001b[0m                                      \u001b[1A\n",
      "\u001b[2K\u001b[1A   \u001b[36m\u001b[1mBuilding\u001b[0m\u001b[39m numpy\u001b[2m==1.26.4\u001b[0m                                      \u001b[1A\n",
      "\u001b[2K\u001b[1A   \u001b[36m\u001b[1mBuilding\u001b[0m\u001b[39m numpy\u001b[2m==1.26.4\u001b[0m                                      \u001b[1A\n",
      "\u001b[2K\u001b[1A   \u001b[36m\u001b[1mBuilding\u001b[0m\u001b[39m numpy\u001b[2m==1.26.4\u001b[0m                                      \u001b[1A\n",
      "\u001b[2K\u001b[1A   \u001b[36m\u001b[1mBuilding\u001b[0m\u001b[39m numpy\u001b[2m==1.26.4\u001b[0m                                      \u001b[1A\n",
      "\u001b[2K\u001b[1A   \u001b[36m\u001b[1mBuilding\u001b[0m\u001b[39m numpy\u001b[2m==1.26.4\u001b[0m                                      \u001b[1A\n",
      "\u001b[2K\u001b[1A   \u001b[36m\u001b[1mBuilding\u001b[0m\u001b[39m numpy\u001b[2m==1.26.4\u001b[0m                                      \u001b[1A\n",
      "\u001b[2K\u001b[1A   \u001b[36m\u001b[1mBuilding\u001b[0m\u001b[39m numpy\u001b[2m==1.26.4\u001b[0m                                      \u001b[1A\n",
      "\u001b[2K\u001b[1A   \u001b[36m\u001b[1mBuilding\u001b[0m\u001b[39m numpy\u001b[2m==1.26.4\u001b[0m                                      \u001b[1A\n",
      "\u001b[2K\u001b[1A   \u001b[36m\u001b[1mBuilding\u001b[0m\u001b[39m numpy\u001b[2m==1.26.4\u001b[0m                                      \u001b[1A\n",
      "\u001b[2K\u001b[1A   \u001b[36m\u001b[1mBuilding\u001b[0m\u001b[39m numpy\u001b[2m==1.26.4\u001b[0m                                      \u001b[1A\n",
      "\u001b[2K\u001b[1A   \u001b[36m\u001b[1mBuilding\u001b[0m\u001b[39m numpy\u001b[2m==1.26.4\u001b[0m                                      \u001b[1A\n",
      "\u001b[2K\u001b[1A   \u001b[36m\u001b[1mBuilding\u001b[0m\u001b[39m numpy\u001b[2m==1.26.4\u001b[0m                                      \u001b[1A\n",
      "\u001b[2K\u001b[1A   \u001b[36m\u001b[1mBuilding\u001b[0m\u001b[39m numpy\u001b[2m==1.26.4\u001b[0m                                      \u001b[1A\n",
      "\u001b[2K\u001b[1A   \u001b[36m\u001b[1mBuilding\u001b[0m\u001b[39m numpy\u001b[2m==1.26.4\u001b[0m                                      \u001b[1A\n",
      "\u001b[2K\u001b[1A   \u001b[36m\u001b[1mBuilding\u001b[0m\u001b[39m numpy\u001b[2m==1.26.4\u001b[0m                                      \u001b[1A\n",
      "\u001b[2K\u001b[1A   \u001b[36m\u001b[1mBuilding\u001b[0m\u001b[39m numpy\u001b[2m==1.26.4\u001b[0m                                      \u001b[1A\n",
      "\u001b[2K\u001b[1A   \u001b[36m\u001b[1mBuilding\u001b[0m\u001b[39m numpy\u001b[2m==1.26.4\u001b[0m                                      \u001b[1A\n",
      "\u001b[2K\u001b[1A   \u001b[36m\u001b[1mBuilding\u001b[0m\u001b[39m numpy\u001b[2m==1.26.4\u001b[0m                                      \u001b[1A\n",
      "\u001b[2K\u001b[1A   \u001b[36m\u001b[1mBuilding\u001b[0m\u001b[39m numpy\u001b[2m==1.26.4\u001b[0m                                      \u001b[1A\n",
      "\u001b[2K\u001b[1A   \u001b[36m\u001b[1mBuilding\u001b[0m\u001b[39m numpy\u001b[2m==1.26.4\u001b[0m                                      \u001b[1A\n",
      "\u001b[2K\u001b[1A   \u001b[36m\u001b[1mBuilding\u001b[0m\u001b[39m numpy\u001b[2m==1.26.4\u001b[0m                                      \u001b[1A\n",
      "\u001b[2K\u001b[1A   \u001b[36m\u001b[1mBuilding\u001b[0m\u001b[39m numpy\u001b[2m==1.26.4\u001b[0m                                      \u001b[1A\n",
      "\u001b[2K\u001b[1A   \u001b[36m\u001b[1mBuilding\u001b[0m\u001b[39m numpy\u001b[2m==1.26.4\u001b[0m                                      \u001b[1A\n",
      "\u001b[2K\u001b[1A   \u001b[36m\u001b[1mBuilding\u001b[0m\u001b[39m numpy\u001b[2m==1.26.4\u001b[0m                                      \u001b[1A\n",
      "\u001b[2K\u001b[1A   \u001b[36m\u001b[1mBuilding\u001b[0m\u001b[39m numpy\u001b[2m==1.26.4\u001b[0m                                      \u001b[1A\n",
      "\u001b[2K\u001b[1A   \u001b[36m\u001b[1mBuilding\u001b[0m\u001b[39m numpy\u001b[2m==1.26.4\u001b[0m                                      \u001b[1A\n",
      "\u001b[2K\u001b[1A   \u001b[36m\u001b[1mBuilding\u001b[0m\u001b[39m numpy\u001b[2m==1.26.4\u001b[0m                                      \u001b[1A\n",
      "\u001b[2K\u001b[1A   \u001b[36m\u001b[1mBuilding\u001b[0m\u001b[39m numpy\u001b[2m==1.26.4\u001b[0m                                      \u001b[1A\n",
      "\u001b[2K\u001b[1A   \u001b[36m\u001b[1mBuilding\u001b[0m\u001b[39m numpy\u001b[2m==1.26.4\u001b[0m                                      \u001b[1A\n",
      "\u001b[2K\u001b[1A   \u001b[36m\u001b[1mBuilding\u001b[0m\u001b[39m numpy\u001b[2m==1.26.4\u001b[0m                                      \u001b[1A\n",
      "\u001b[2K\u001b[1A   \u001b[36m\u001b[1mBuilding\u001b[0m\u001b[39m numpy\u001b[2m==1.26.4\u001b[0m                                      \u001b[1A\n",
      "\u001b[2K\u001b[1A   \u001b[36m\u001b[1mBuilding\u001b[0m\u001b[39m numpy\u001b[2m==1.26.4\u001b[0m                                      \u001b[1A\n",
      "\u001b[2K\u001b[1A   \u001b[36m\u001b[1mBuilding\u001b[0m\u001b[39m numpy\u001b[2m==1.26.4\u001b[0m                                      \u001b[1A\n",
      "\u001b[2K\u001b[1A   \u001b[36m\u001b[1mBuilding\u001b[0m\u001b[39m numpy\u001b[2m==1.26.4\u001b[0m                                      \u001b[1A\n",
      "\u001b[2K\u001b[1A   \u001b[36m\u001b[1mBuilding\u001b[0m\u001b[39m numpy\u001b[2m==1.26.4\u001b[0m                                      \u001b[1A\n",
      "\u001b[2K\u001b[1A   \u001b[36m\u001b[1mBuilding\u001b[0m\u001b[39m numpy\u001b[2m==1.26.4\u001b[0m                                      \u001b[1A\n",
      "\u001b[2K\u001b[1A   \u001b[36m\u001b[1mBuilding\u001b[0m\u001b[39m numpy\u001b[2m==1.26.4\u001b[0m                                      \u001b[1A\n",
      "\u001b[2K\u001b[1A   \u001b[36m\u001b[1mBuilding\u001b[0m\u001b[39m numpy\u001b[2m==1.26.4\u001b[0m                                      \u001b[1A\n",
      "\u001b[2K\u001b[1A   \u001b[36m\u001b[1mBuilding\u001b[0m\u001b[39m numpy\u001b[2m==1.26.4\u001b[0m                                      \u001b[1A\n",
      "\u001b[2K\u001b[1A   \u001b[36m\u001b[1mBuilding\u001b[0m\u001b[39m numpy\u001b[2m==1.26.4\u001b[0m                                      \u001b[1A\n",
      "\u001b[2K\u001b[1A   \u001b[36m\u001b[1mBuilding\u001b[0m\u001b[39m numpy\u001b[2m==1.26.4\u001b[0m                                      \u001b[1A\n",
      "\u001b[2K\u001b[1A   \u001b[36m\u001b[1mBuilding\u001b[0m\u001b[39m numpy\u001b[2m==1.26.4\u001b[0m                                      \u001b[1A\n",
      "\u001b[2K\u001b[1A   \u001b[36m\u001b[1mBuilding\u001b[0m\u001b[39m numpy\u001b[2m==1.26.4\u001b[0m                                      \u001b[1A\n",
      "\u001b[2K\u001b[1A   \u001b[36m\u001b[1mBuilding\u001b[0m\u001b[39m numpy\u001b[2m==1.26.4\u001b[0m                                      \u001b[1A\n",
      "\u001b[2K\u001b[1A   \u001b[36m\u001b[1mBuilding\u001b[0m\u001b[39m numpy\u001b[2m==1.26.4\u001b[0m                                      \u001b[1A\n",
      "\u001b[2K\u001b[1A   \u001b[36m\u001b[1mBuilding\u001b[0m\u001b[39m numpy\u001b[2m==1.26.4\u001b[0m                                      \u001b[1A\n",
      "\u001b[2K\u001b[1A   \u001b[36m\u001b[1mBuilding\u001b[0m\u001b[39m numpy\u001b[2m==1.26.4\u001b[0m                                      \u001b[1A\n",
      "\u001b[2K\u001b[1A   \u001b[36m\u001b[1mBuilding\u001b[0m\u001b[39m numpy\u001b[2m==1.26.4\u001b[0m                                      \u001b[1A\n",
      "\u001b[2K\u001b[1A   \u001b[36m\u001b[1mBuilding\u001b[0m\u001b[39m numpy\u001b[2m==1.26.4\u001b[0m                                      \u001b[1A\n",
      "\u001b[2K\u001b[1A   \u001b[36m\u001b[1mBuilding\u001b[0m\u001b[39m numpy\u001b[2m==1.26.4\u001b[0m                                      \u001b[1A\n",
      "\u001b[2K\u001b[1A   \u001b[36m\u001b[1mBuilding\u001b[0m\u001b[39m numpy\u001b[2m==1.26.4\u001b[0m                                      \u001b[1A\n",
      "\u001b[2K\u001b[1A   \u001b[36m\u001b[1mBuilding\u001b[0m\u001b[39m numpy\u001b[2m==1.26.4\u001b[0m                                      \u001b[1A\n",
      "\u001b[2K\u001b[1A   \u001b[36m\u001b[1mBuilding\u001b[0m\u001b[39m numpy\u001b[2m==1.26.4\u001b[0m                                      \u001b[1A\n",
      "\u001b[2K\u001b[1A   \u001b[36m\u001b[1mBuilding\u001b[0m\u001b[39m numpy\u001b[2m==1.26.4\u001b[0m                                      \u001b[1A\n",
      "\u001b[2K\u001b[1A   \u001b[36m\u001b[1mBuilding\u001b[0m\u001b[39m numpy\u001b[2m==1.26.4\u001b[0m                                      \u001b[1A\n",
      "\u001b[2K\u001b[1A   \u001b[36m\u001b[1mBuilding\u001b[0m\u001b[39m numpy\u001b[2m==1.26.4\u001b[0m                                      \u001b[1A\n",
      "\u001b[2K\u001b[1A   \u001b[36m\u001b[1mBuilding\u001b[0m\u001b[39m numpy\u001b[2m==1.26.4\u001b[0m                                      \u001b[1A\n",
      "\u001b[2K\u001b[1A   \u001b[36m\u001b[1mBuilding\u001b[0m\u001b[39m numpy\u001b[2m==1.26.4\u001b[0m                                      \u001b[1A\n",
      "\u001b[2K\u001b[1A   \u001b[36m\u001b[1mBuilding\u001b[0m\u001b[39m numpy\u001b[2m==1.26.4\u001b[0m                                      \u001b[1A\n",
      "\u001b[2K\u001b[1A   \u001b[36m\u001b[1mBuilding\u001b[0m\u001b[39m numpy\u001b[2m==1.26.4\u001b[0m                                      \u001b[1A\n",
      "\u001b[2K\u001b[1A   \u001b[36m\u001b[1mBuilding\u001b[0m\u001b[39m numpy\u001b[2m==1.26.4\u001b[0m                                      \u001b[1A\n",
      "\u001b[2K\u001b[1A   \u001b[36m\u001b[1mBuilding\u001b[0m\u001b[39m numpy\u001b[2m==1.26.4\u001b[0m                                      \u001b[1A\n",
      "\u001b[2K\u001b[1A   \u001b[36m\u001b[1mBuilding\u001b[0m\u001b[39m numpy\u001b[2m==1.26.4\u001b[0m                                      \u001b[1A\n",
      "\u001b[2K\u001b[1A   \u001b[36m\u001b[1mBuilding\u001b[0m\u001b[39m numpy\u001b[2m==1.26.4\u001b[0m                                      \u001b[1A\n",
      "\u001b[2K\u001b[1A   \u001b[36m\u001b[1mBuilding\u001b[0m\u001b[39m numpy\u001b[2m==1.26.4\u001b[0m                                      \u001b[1A\n",
      "\u001b[2K\u001b[1A   \u001b[36m\u001b[1mBuilding\u001b[0m\u001b[39m numpy\u001b[2m==1.26.4\u001b[0m                                      \u001b[1A\n",
      "\u001b[2K\u001b[1A   \u001b[36m\u001b[1mBuilding\u001b[0m\u001b[39m numpy\u001b[2m==1.26.4\u001b[0m                                      \u001b[1A\n",
      "\u001b[2K\u001b[1A   \u001b[36m\u001b[1mBuilding\u001b[0m\u001b[39m numpy\u001b[2m==1.26.4\u001b[0m                                      \u001b[1A\n",
      "\u001b[2K\u001b[1A   \u001b[36m\u001b[1mBuilding\u001b[0m\u001b[39m numpy\u001b[2m==1.26.4\u001b[0m                                      \u001b[1A\n",
      "\u001b[2K\u001b[1A   \u001b[36m\u001b[1mBuilding\u001b[0m\u001b[39m numpy\u001b[2m==1.26.4\u001b[0m                                      \u001b[1A\n",
      "\u001b[2K\u001b[1A   \u001b[36m\u001b[1mBuilding\u001b[0m\u001b[39m numpy\u001b[2m==1.26.4\u001b[0m                                      \u001b[1A\n",
      "\u001b[2K\u001b[1A   \u001b[36m\u001b[1mBuilding\u001b[0m\u001b[39m numpy\u001b[2m==1.26.4\u001b[0m                                      \u001b[1A\n",
      "\u001b[2K\u001b[1A   \u001b[36m\u001b[1mBuilding\u001b[0m\u001b[39m numpy\u001b[2m==1.26.4\u001b[0m                                      \u001b[1A\n",
      "\u001b[2K\u001b[1A   \u001b[36m\u001b[1mBuilding\u001b[0m\u001b[39m numpy\u001b[2m==1.26.4\u001b[0m                                      \u001b[1A\n",
      "\u001b[2K\u001b[1A   \u001b[36m\u001b[1mBuilding\u001b[0m\u001b[39m numpy\u001b[2m==1.26.4\u001b[0m                                      \u001b[1A\n",
      "\u001b[2K\u001b[1A   \u001b[36m\u001b[1mBuilding\u001b[0m\u001b[39m numpy\u001b[2m==1.26.4\u001b[0m                                      \u001b[1A\n",
      "\u001b[2K\u001b[1A   \u001b[36m\u001b[1mBuilding\u001b[0m\u001b[39m numpy\u001b[2m==1.26.4\u001b[0m                                      \u001b[1A\n",
      "\u001b[2K\u001b[1A   \u001b[36m\u001b[1mBuilding\u001b[0m\u001b[39m numpy\u001b[2m==1.26.4\u001b[0m                                      \u001b[1A\n",
      "\u001b[2K\u001b[1A   \u001b[36m\u001b[1mBuilding\u001b[0m\u001b[39m numpy\u001b[2m==1.26.4\u001b[0m                                      \u001b[1A\n",
      "\u001b[2K\u001b[1A   \u001b[36m\u001b[1mBuilding\u001b[0m\u001b[39m numpy\u001b[2m==1.26.4\u001b[0m                                      \u001b[1A\n",
      "\u001b[2K\u001b[1A   \u001b[36m\u001b[1mBuilding\u001b[0m\u001b[39m numpy\u001b[2m==1.26.4\u001b[0m                                      \u001b[1A\n",
      "\u001b[2K\u001b[1A   \u001b[36m\u001b[1mBuilding\u001b[0m\u001b[39m numpy\u001b[2m==1.26.4\u001b[0m                                      \u001b[1A\n",
      "\u001b[2K\u001b[1A   \u001b[36m\u001b[1mBuilding\u001b[0m\u001b[39m numpy\u001b[2m==1.26.4\u001b[0m                                      \u001b[1A\n",
      "\u001b[2K\u001b[1A   \u001b[36m\u001b[1mBuilding\u001b[0m\u001b[39m numpy\u001b[2m==1.26.4\u001b[0m                                      \u001b[1A\n",
      "\u001b[2K\u001b[1A   \u001b[36m\u001b[1mBuilding\u001b[0m\u001b[39m numpy\u001b[2m==1.26.4\u001b[0m                                      \u001b[1A\n",
      "\u001b[2K\u001b[1A   \u001b[36m\u001b[1mBuilding\u001b[0m\u001b[39m numpy\u001b[2m==1.26.4\u001b[0m                                      \u001b[1A\n",
      "\u001b[2K\u001b[1A   \u001b[36m\u001b[1mBuilding\u001b[0m\u001b[39m numpy\u001b[2m==1.26.4\u001b[0m                                      \u001b[1A\n",
      "\u001b[2K\u001b[1A   \u001b[36m\u001b[1mBuilding\u001b[0m\u001b[39m numpy\u001b[2m==1.26.4\u001b[0m                                      \u001b[1A\n",
      "\u001b[2K\u001b[1A   \u001b[36m\u001b[1mBuilding\u001b[0m\u001b[39m numpy\u001b[2m==1.26.4\u001b[0m                                      \u001b[1A\n",
      "\u001b[2K\u001b[1A   \u001b[36m\u001b[1mBuilding\u001b[0m\u001b[39m numpy\u001b[2m==1.26.4\u001b[0m                                      \u001b[1A\n",
      "\u001b[2K\u001b[1A   \u001b[36m\u001b[1mBuilding\u001b[0m\u001b[39m numpy\u001b[2m==1.26.4\u001b[0m                                      \u001b[1A\n",
      "\u001b[2K\u001b[1A   \u001b[36m\u001b[1mBuilding\u001b[0m\u001b[39m numpy\u001b[2m==1.26.4\u001b[0m                                      \u001b[1A\n",
      "\u001b[2K\u001b[1A   \u001b[36m\u001b[1mBuilding\u001b[0m\u001b[39m numpy\u001b[2m==1.26.4\u001b[0m                                      \u001b[1A\n",
      "\u001b[2K\u001b[1A   \u001b[36m\u001b[1mBuilding\u001b[0m\u001b[39m numpy\u001b[2m==1.26.4\u001b[0m                                      \u001b[1A\n",
      "\u001b[2K\u001b[1A   \u001b[36m\u001b[1mBuilding\u001b[0m\u001b[39m numpy\u001b[2m==1.26.4\u001b[0m                                      \u001b[1A\n",
      "\u001b[2K\u001b[1A   \u001b[36m\u001b[1mBuilding\u001b[0m\u001b[39m numpy\u001b[2m==1.26.4\u001b[0m                                      \u001b[1A\n",
      "\u001b[2K\u001b[1A   \u001b[36m\u001b[1mBuilding\u001b[0m\u001b[39m numpy\u001b[2m==1.26.4\u001b[0m                                      \u001b[1A\n",
      "\u001b[2K\u001b[1A   \u001b[36m\u001b[1mBuilding\u001b[0m\u001b[39m numpy\u001b[2m==1.26.4\u001b[0m                                      \u001b[1A\n",
      "\u001b[2K\u001b[1A   \u001b[36m\u001b[1mBuilding\u001b[0m\u001b[39m numpy\u001b[2m==1.26.4\u001b[0m                                      \u001b[1A\n",
      "\u001b[2K\u001b[1A   \u001b[36m\u001b[1mBuilding\u001b[0m\u001b[39m numpy\u001b[2m==1.26.4\u001b[0m                                      \u001b[1A\n",
      "\u001b[2K\u001b[1A   \u001b[36m\u001b[1mBuilding\u001b[0m\u001b[39m numpy\u001b[2m==1.26.4\u001b[0m                                      \u001b[1A\n",
      "\u001b[2K\u001b[1A   \u001b[36m\u001b[1mBuilding\u001b[0m\u001b[39m numpy\u001b[2m==1.26.4\u001b[0m                                      \u001b[1A\n",
      "\u001b[2K\u001b[1A   \u001b[36m\u001b[1mBuilding\u001b[0m\u001b[39m numpy\u001b[2m==1.26.4\u001b[0m                                      \u001b[1A\n",
      "\u001b[2K\u001b[1A   \u001b[36m\u001b[1mBuilding\u001b[0m\u001b[39m numpy\u001b[2m==1.26.4\u001b[0m                                      \u001b[1A\n",
      "\u001b[2K\u001b[1A   \u001b[36m\u001b[1mBuilding\u001b[0m\u001b[39m numpy\u001b[2m==1.26.4\u001b[0m                                      \u001b[1A\n",
      "\u001b[2K\u001b[1A   \u001b[36m\u001b[1mBuilding\u001b[0m\u001b[39m numpy\u001b[2m==1.26.4\u001b[0m                                      \u001b[1A\n",
      "\u001b[2K\u001b[1A   \u001b[36m\u001b[1mBuilding\u001b[0m\u001b[39m numpy\u001b[2m==1.26.4\u001b[0m                                      \u001b[1A\n",
      "\u001b[2K\u001b[1A   \u001b[36m\u001b[1mBuilding\u001b[0m\u001b[39m numpy\u001b[2m==1.26.4\u001b[0m                                      \u001b[1A\n",
      "\u001b[2K\u001b[1A   \u001b[36m\u001b[1mBuilding\u001b[0m\u001b[39m numpy\u001b[2m==1.26.4\u001b[0m                                      \u001b[1A\n",
      "\u001b[2K\u001b[1A   \u001b[36m\u001b[1mBuilding\u001b[0m\u001b[39m numpy\u001b[2m==1.26.4\u001b[0m                                      \u001b[1A\n",
      "\u001b[2K\u001b[1A   \u001b[36m\u001b[1mBuilding\u001b[0m\u001b[39m numpy\u001b[2m==1.26.4\u001b[0m                                      \u001b[1A\n",
      "\u001b[2K\u001b[1A   \u001b[36m\u001b[1mBuilding\u001b[0m\u001b[39m numpy\u001b[2m==1.26.4\u001b[0m                                      \u001b[1A\n",
      "\u001b[2K\u001b[1A   \u001b[36m\u001b[1mBuilding\u001b[0m\u001b[39m numpy\u001b[2m==1.26.4\u001b[0m                                      \u001b[1A\n",
      "\u001b[2K\u001b[1A   \u001b[36m\u001b[1mBuilding\u001b[0m\u001b[39m numpy\u001b[2m==1.26.4\u001b[0m                                      \u001b[1A\n",
      "\u001b[2K\u001b[1A   \u001b[36m\u001b[1mBuilding\u001b[0m\u001b[39m numpy\u001b[2m==1.26.4\u001b[0m                                      \u001b[1A\n",
      "\u001b[2K\u001b[1A   \u001b[36m\u001b[1mBuilding\u001b[0m\u001b[39m numpy\u001b[2m==1.26.4\u001b[0m                                      \u001b[1A\n",
      "\u001b[2K\u001b[1A   \u001b[36m\u001b[1mBuilding\u001b[0m\u001b[39m numpy\u001b[2m==1.26.4\u001b[0m                                      \u001b[1A\n",
      "\u001b[2K\u001b[1A   \u001b[36m\u001b[1mBuilding\u001b[0m\u001b[39m numpy\u001b[2m==1.26.4\u001b[0m                                      \u001b[1A\n",
      "\u001b[2K\u001b[1A   \u001b[36m\u001b[1mBuilding\u001b[0m\u001b[39m numpy\u001b[2m==1.26.4\u001b[0m                                      \u001b[1A\n",
      "\u001b[2K\u001b[1A   \u001b[36m\u001b[1mBuilding\u001b[0m\u001b[39m numpy\u001b[2m==1.26.4\u001b[0m                                      \u001b[1A\n",
      "\u001b[2K\u001b[1A   \u001b[36m\u001b[1mBuilding\u001b[0m\u001b[39m numpy\u001b[2m==1.26.4\u001b[0m                                      \u001b[1A\n",
      "\u001b[2K\u001b[1A   \u001b[36m\u001b[1mBuilding\u001b[0m\u001b[39m numpy\u001b[2m==1.26.4\u001b[0m                                      \u001b[1A\n",
      "\u001b[2K\u001b[1A   \u001b[36m\u001b[1mBuilding\u001b[0m\u001b[39m numpy\u001b[2m==1.26.4\u001b[0m                                      \u001b[1A\n",
      "\u001b[2K\u001b[1A   \u001b[36m\u001b[1mBuilding\u001b[0m\u001b[39m numpy\u001b[2m==1.26.4\u001b[0m                                      \u001b[1A\n",
      "\u001b[2K\u001b[1A   \u001b[36m\u001b[1mBuilding\u001b[0m\u001b[39m numpy\u001b[2m==1.26.4\u001b[0m                                      \u001b[1A\n",
      "\u001b[2K\u001b[1A   \u001b[36m\u001b[1mBuilding\u001b[0m\u001b[39m numpy\u001b[2m==1.26.4\u001b[0m                                      \u001b[1A\n",
      "\u001b[2K\u001b[1A   \u001b[36m\u001b[1mBuilding\u001b[0m\u001b[39m numpy\u001b[2m==1.26.4\u001b[0m                                      \u001b[1A\n",
      "\u001b[2K\u001b[1A   \u001b[36m\u001b[1mBuilding\u001b[0m\u001b[39m numpy\u001b[2m==1.26.4\u001b[0m                                      \u001b[1A\n",
      "\u001b[2K\u001b[1A   \u001b[36m\u001b[1mBuilding\u001b[0m\u001b[39m numpy\u001b[2m==1.26.4\u001b[0m                                      \u001b[1A\n",
      "\u001b[2K\u001b[1A   \u001b[36m\u001b[1mBuilding\u001b[0m\u001b[39m numpy\u001b[2m==1.26.4\u001b[0m                                      \u001b[1A\n",
      "\u001b[2K\u001b[1A   \u001b[36m\u001b[1mBuilding\u001b[0m\u001b[39m numpy\u001b[2m==1.26.4\u001b[0m                                      \u001b[1A\n",
      "\u001b[2K\u001b[1A   \u001b[36m\u001b[1mBuilding\u001b[0m\u001b[39m numpy\u001b[2m==1.26.4\u001b[0m                                      \u001b[1A\n",
      "\u001b[2K\u001b[1A   \u001b[36m\u001b[1mBuilding\u001b[0m\u001b[39m numpy\u001b[2m==1.26.4\u001b[0m                                      \u001b[1A\n",
      "\u001b[2K\u001b[1A   \u001b[36m\u001b[1mBuilding\u001b[0m\u001b[39m numpy\u001b[2m==1.26.4\u001b[0m                                      \u001b[1A\n",
      "\u001b[2K\u001b[1A   \u001b[36m\u001b[1mBuilding\u001b[0m\u001b[39m numpy\u001b[2m==1.26.4\u001b[0m                                      \u001b[1A\n",
      "\u001b[2K\u001b[1A   \u001b[36m\u001b[1mBuilding\u001b[0m\u001b[39m numpy\u001b[2m==1.26.4\u001b[0m                                      \u001b[1A\n",
      "\u001b[2K\u001b[1A   \u001b[36m\u001b[1mBuilding\u001b[0m\u001b[39m numpy\u001b[2m==1.26.4\u001b[0m                                      \u001b[1A\n",
      "\u001b[2K\u001b[1A   \u001b[36m\u001b[1mBuilding\u001b[0m\u001b[39m numpy\u001b[2m==1.26.4\u001b[0m                                      \u001b[1A\n",
      "\u001b[2K\u001b[1A   \u001b[36m\u001b[1mBuilding\u001b[0m\u001b[39m numpy\u001b[2m==1.26.4\u001b[0m                                      \u001b[1A\n",
      "\u001b[2K\u001b[1A   \u001b[36m\u001b[1mBuilding\u001b[0m\u001b[39m numpy\u001b[2m==1.26.4\u001b[0m                                      \u001b[1A\n",
      "\u001b[2K\u001b[1A   \u001b[36m\u001b[1mBuilding\u001b[0m\u001b[39m numpy\u001b[2m==1.26.4\u001b[0m                                      \u001b[1A\n",
      "\u001b[2K\u001b[1A   \u001b[36m\u001b[1mBuilding\u001b[0m\u001b[39m numpy\u001b[2m==1.26.4\u001b[0m                                      \u001b[1A\n",
      "\u001b[2K\u001b[1A   \u001b[36m\u001b[1mBuilding\u001b[0m\u001b[39m numpy\u001b[2m==1.26.4\u001b[0m                                      \u001b[1A\n",
      "\u001b[2K\u001b[1A   \u001b[36m\u001b[1mBuilding\u001b[0m\u001b[39m numpy\u001b[2m==1.26.4\u001b[0m                                      \u001b[1A\n",
      "\u001b[2K\u001b[1A   \u001b[36m\u001b[1mBuilding\u001b[0m\u001b[39m numpy\u001b[2m==1.26.4\u001b[0m                                      \u001b[1A\n",
      "\u001b[2K\u001b[1A   \u001b[36m\u001b[1mBuilding\u001b[0m\u001b[39m numpy\u001b[2m==1.26.4\u001b[0m                                      \u001b[1A\n",
      "\u001b[2K\u001b[1A   \u001b[36m\u001b[1mBuilding\u001b[0m\u001b[39m numpy\u001b[2m==1.26.4\u001b[0m                                      \u001b[1A\n",
      "\u001b[2K\u001b[1A   \u001b[36m\u001b[1mBuilding\u001b[0m\u001b[39m numpy\u001b[2m==1.26.4\u001b[0m                                      \u001b[1A\n",
      "\u001b[2K\u001b[1A   \u001b[36m\u001b[1mBuilding\u001b[0m\u001b[39m numpy\u001b[2m==1.26.4\u001b[0m                                      \u001b[1A\n",
      "\u001b[2K\u001b[1A   \u001b[36m\u001b[1mBuilding\u001b[0m\u001b[39m numpy\u001b[2m==1.26.4\u001b[0m                                      \u001b[1A\n",
      "\u001b[2K\u001b[1A   \u001b[36m\u001b[1mBuilding\u001b[0m\u001b[39m numpy\u001b[2m==1.26.4\u001b[0m                                      \u001b[1A\n",
      "\u001b[2K\u001b[1A   \u001b[36m\u001b[1mBuilding\u001b[0m\u001b[39m numpy\u001b[2m==1.26.4\u001b[0m                                      \u001b[1A\n",
      "\u001b[2K\u001b[1A   \u001b[36m\u001b[1mBuilding\u001b[0m\u001b[39m numpy\u001b[2m==1.26.4\u001b[0m                                      \u001b[1A\n",
      "\u001b[2K\u001b[1A   \u001b[36m\u001b[1mBuilding\u001b[0m\u001b[39m numpy\u001b[2m==1.26.4\u001b[0m                                      \u001b[1A\n",
      "\u001b[2K\u001b[1A   \u001b[36m\u001b[1mBuilding\u001b[0m\u001b[39m numpy\u001b[2m==1.26.4\u001b[0m                                      \u001b[1A\n",
      "\u001b[2K\u001b[1A   \u001b[36m\u001b[1mBuilding\u001b[0m\u001b[39m numpy\u001b[2m==1.26.4\u001b[0m                                      \u001b[1A\n",
      "\u001b[2K\u001b[1A   \u001b[36m\u001b[1mBuilding\u001b[0m\u001b[39m numpy\u001b[2m==1.26.4\u001b[0m                                      \u001b[1A\n",
      "\u001b[2K\u001b[1A   \u001b[36m\u001b[1mBuilding\u001b[0m\u001b[39m numpy\u001b[2m==1.26.4\u001b[0m                                      \u001b[1A\n",
      "\u001b[2K\u001b[1A   \u001b[36m\u001b[1mBuilding\u001b[0m\u001b[39m numpy\u001b[2m==1.26.4\u001b[0m                                      \u001b[1A\n",
      "\u001b[2K\u001b[1A   \u001b[36m\u001b[1mBuilding\u001b[0m\u001b[39m numpy\u001b[2m==1.26.4\u001b[0m                                      \u001b[1A\n",
      "\u001b[2K\u001b[1A   \u001b[36m\u001b[1mBuilding\u001b[0m\u001b[39m numpy\u001b[2m==1.26.4\u001b[0m                                      \u001b[1A\n",
      "\u001b[2K\u001b[1A   \u001b[36m\u001b[1mBuilding\u001b[0m\u001b[39m numpy\u001b[2m==1.26.4\u001b[0m                                      \u001b[1A\n",
      "\u001b[2K\u001b[1A   \u001b[36m\u001b[1mBuilding\u001b[0m\u001b[39m numpy\u001b[2m==1.26.4\u001b[0m                                      \u001b[1A\n",
      "\u001b[2K\u001b[1A   \u001b[36m\u001b[1mBuilding\u001b[0m\u001b[39m numpy\u001b[2m==1.26.4\u001b[0m                                      \u001b[1A\n",
      "\u001b[2K\u001b[1A   \u001b[36m\u001b[1mBuilding\u001b[0m\u001b[39m numpy\u001b[2m==1.26.4\u001b[0m                                      \u001b[1A\n",
      "\u001b[2K\u001b[1A   \u001b[36m\u001b[1mBuilding\u001b[0m\u001b[39m numpy\u001b[2m==1.26.4\u001b[0m                                      \u001b[1A\n",
      "\u001b[2K\u001b[1A   \u001b[36m\u001b[1mBuilding\u001b[0m\u001b[39m numpy\u001b[2m==1.26.4\u001b[0m                                      \u001b[1A\n",
      "\u001b[2K\u001b[1A   \u001b[36m\u001b[1mBuilding\u001b[0m\u001b[39m numpy\u001b[2m==1.26.4\u001b[0m                                      \u001b[1A\n",
      "\u001b[2K\u001b[1A   \u001b[36m\u001b[1mBuilding\u001b[0m\u001b[39m numpy\u001b[2m==1.26.4\u001b[0m                                      \u001b[1A\n",
      "\u001b[2K\u001b[1A   \u001b[36m\u001b[1mBuilding\u001b[0m\u001b[39m numpy\u001b[2m==1.26.4\u001b[0m                                      \u001b[1A\n",
      "\u001b[2K\u001b[1A   \u001b[36m\u001b[1mBuilding\u001b[0m\u001b[39m numpy\u001b[2m==1.26.4\u001b[0m                                      \u001b[1A\n",
      "\u001b[2K\u001b[1A   \u001b[36m\u001b[1mBuilding\u001b[0m\u001b[39m numpy\u001b[2m==1.26.4\u001b[0m                                      \u001b[1A\n",
      "\u001b[2K\u001b[1A   \u001b[36m\u001b[1mBuilding\u001b[0m\u001b[39m numpy\u001b[2m==1.26.4\u001b[0m                                      \u001b[1A\n",
      "\u001b[2K\u001b[1A   \u001b[36m\u001b[1mBuilding\u001b[0m\u001b[39m numpy\u001b[2m==1.26.4\u001b[0m                                      \u001b[1A\n",
      "\u001b[2K\u001b[1A   \u001b[36m\u001b[1mBuilding\u001b[0m\u001b[39m numpy\u001b[2m==1.26.4\u001b[0m                                      \u001b[1A\n",
      "\u001b[2K\u001b[1A   \u001b[36m\u001b[1mBuilding\u001b[0m\u001b[39m numpy\u001b[2m==1.26.4\u001b[0m                                      \u001b[1A\n",
      "\u001b[2K\u001b[1A   \u001b[36m\u001b[1mBuilding\u001b[0m\u001b[39m numpy\u001b[2m==1.26.4\u001b[0m                                      \u001b[1A\n",
      "\u001b[2K\u001b[1A   \u001b[36m\u001b[1mBuilding\u001b[0m\u001b[39m numpy\u001b[2m==1.26.4\u001b[0m                                      \u001b[1A\n",
      "\u001b[2K\u001b[1A   \u001b[36m\u001b[1mBuilding\u001b[0m\u001b[39m numpy\u001b[2m==1.26.4\u001b[0m                                      \u001b[1A\n",
      "\u001b[2K\u001b[1A   \u001b[36m\u001b[1mBuilding\u001b[0m\u001b[39m numpy\u001b[2m==1.26.4\u001b[0m                                      \u001b[1A\n",
      "\u001b[2K\u001b[1A   \u001b[36m\u001b[1mBuilding\u001b[0m\u001b[39m numpy\u001b[2m==1.26.4\u001b[0m                                      \u001b[1A\n",
      "\u001b[2K\u001b[1A   \u001b[36m\u001b[1mBuilding\u001b[0m\u001b[39m numpy\u001b[2m==1.26.4\u001b[0m                                      \u001b[1A\n",
      "\u001b[2K\u001b[1A   \u001b[36m\u001b[1mBuilding\u001b[0m\u001b[39m numpy\u001b[2m==1.26.4\u001b[0m                                      \u001b[1A\n",
      "\u001b[2K\u001b[1A   \u001b[36m\u001b[1mBuilding\u001b[0m\u001b[39m numpy\u001b[2m==1.26.4\u001b[0m                                      \u001b[1A\n",
      "\u001b[2K\u001b[1A   \u001b[36m\u001b[1mBuilding\u001b[0m\u001b[39m numpy\u001b[2m==1.26.4\u001b[0m                                      \u001b[1A\n",
      "\u001b[2K\u001b[1A   \u001b[36m\u001b[1mBuilding\u001b[0m\u001b[39m numpy\u001b[2m==1.26.4\u001b[0m                                      \u001b[1A\n",
      "\u001b[2K\u001b[1A   \u001b[36m\u001b[1mBuilding\u001b[0m\u001b[39m numpy\u001b[2m==1.26.4\u001b[0m                                      \u001b[1A\n",
      "\u001b[2K\u001b[1A   \u001b[36m\u001b[1mBuilding\u001b[0m\u001b[39m numpy\u001b[2m==1.26.4\u001b[0m                                      \u001b[1A\n",
      "\u001b[2K\u001b[1A   \u001b[36m\u001b[1mBuilding\u001b[0m\u001b[39m numpy\u001b[2m==1.26.4\u001b[0m                                      \u001b[1A\n",
      "\u001b[2K\u001b[1A   \u001b[36m\u001b[1mBuilding\u001b[0m\u001b[39m numpy\u001b[2m==1.26.4\u001b[0m                                      \u001b[1A\n",
      "\u001b[2K\u001b[1A   \u001b[36m\u001b[1mBuilding\u001b[0m\u001b[39m numpy\u001b[2m==1.26.4\u001b[0m                                      \u001b[1A\n",
      "\u001b[2K\u001b[1A   \u001b[36m\u001b[1mBuilding\u001b[0m\u001b[39m numpy\u001b[2m==1.26.4\u001b[0m                                      \u001b[1A\n",
      "\u001b[2K\u001b[1A   \u001b[36m\u001b[1mBuilding\u001b[0m\u001b[39m numpy\u001b[2m==1.26.4\u001b[0m                                      \u001b[1A\n",
      "\u001b[2K\u001b[1A   \u001b[36m\u001b[1mBuilding\u001b[0m\u001b[39m numpy\u001b[2m==1.26.4\u001b[0m                                      \u001b[1A\n",
      "\u001b[2K\u001b[1A   \u001b[36m\u001b[1mBuilding\u001b[0m\u001b[39m numpy\u001b[2m==1.26.4\u001b[0m                                      \u001b[1A\n",
      "\u001b[2K\u001b[1A   \u001b[36m\u001b[1mBuilding\u001b[0m\u001b[39m numpy\u001b[2m==1.26.4\u001b[0m                                      \u001b[1A\n",
      "\u001b[2K\u001b[1A   \u001b[36m\u001b[1mBuilding\u001b[0m\u001b[39m numpy\u001b[2m==1.26.4\u001b[0m                                      \u001b[1A\n",
      "\u001b[2K\u001b[1A   \u001b[36m\u001b[1mBuilding\u001b[0m\u001b[39m numpy\u001b[2m==1.26.4\u001b[0m                                      \u001b[1A\n",
      "\u001b[2K\u001b[1A   \u001b[36m\u001b[1mBuilding\u001b[0m\u001b[39m numpy\u001b[2m==1.26.4\u001b[0m                                      \u001b[1A\n",
      "\u001b[2K\u001b[1A   \u001b[36m\u001b[1mBuilding\u001b[0m\u001b[39m numpy\u001b[2m==1.26.4\u001b[0m                                      \u001b[1A\n",
      "\u001b[2K\u001b[1A   \u001b[36m\u001b[1mBuilding\u001b[0m\u001b[39m numpy\u001b[2m==1.26.4\u001b[0m                                      \u001b[1A\n",
      "\u001b[2K\u001b[1A   \u001b[36m\u001b[1mBuilding\u001b[0m\u001b[39m numpy\u001b[2m==1.26.4\u001b[0m                                      \u001b[1A\n",
      "\u001b[2K\u001b[1A      \u001b[32m\u001b[1mBuilt\u001b[0m\u001b[39m numpy\u001b[2m==1.26.4\u001b[0m                                      \u001b[1A\n",
      "\u001b[2K\u001b[2mPrepared \u001b[1m2 packages\u001b[0m \u001b[2min 1m 24s\u001b[0m\u001b[0m                                            \n",
      "\u001b[2mUninstalled \u001b[1m1 package\u001b[0m \u001b[2min 59ms\u001b[0m\u001b[0m\n",
      "\u001b[2K░░░░░░░░░░░░░░░░░░░░ [0/3] \u001b[2mInstalling wheels...                                 \u001b[0m\u001b[1m\u001b[33mwarning\u001b[39m\u001b[0m\u001b[1m:\u001b[0m \u001b[1mFailed to hardlink files; falling back to full copy. This may lead to degraded performance.\n",
      "         If the cache and target directories are on different filesystems, hardlinking may not be supported.\n",
      "         If this is intentional, set `export UV_LINK_MODE=copy` or use `--link-mode=copy` to suppress this warning.\u001b[0m\n",
      "\u001b[2K\u001b[2mInstalled \u001b[1m3 packages\u001b[0m \u001b[2min 6.98s\u001b[0m\u001b[0m                               \u001b[0m\n",
      " \u001b[32m+\u001b[39m \u001b[1mcaptum\u001b[0m\u001b[2m==0.8.0\u001b[0m\n",
      " \u001b[31m-\u001b[39m \u001b[1mnumpy\u001b[0m\u001b[2m==2.3.1\u001b[0m\n",
      " \u001b[32m+\u001b[39m \u001b[1mnumpy\u001b[0m\u001b[2m==1.26.4\u001b[0m\n",
      " \u001b[32m+\u001b[39m \u001b[1munidecode\u001b[0m\u001b[2m==1.4.0\u001b[0m\n",
      "Note: you may need to restart the kernel to use updated packages.\n"
     ]
    }
   ],
   "source": [
    "# Stable version\n",
    "%uv pip install --system .. \n",
    "%uv pip install --system captum unidecode nltk\n"
   ]
  },
  {
   "cell_type": "markdown",
   "id": "b292ea76-57a1-4d4e-9bde-dcc9656dc447",
   "metadata": {},
   "source": [
    "# Load and preprocess data\n",
    "\n",
    "In that guide, we propose to illustrate main package functionalities\n",
    "using that `DataFrame`:"
   ]
  },
  {
   "cell_type": "code",
   "execution_count": 1,
   "id": "37c042fe",
   "metadata": {},
   "outputs": [],
   "source": [
    "import pandas as pd\n",
    "df = pd.read_parquet(\"https://minio.lab.sspcloud.fr/projet-ape/extractions/20241027_sirene4.parquet\")\n",
    "df = df.sample(10000)"
   ]
  },
  {
   "cell_type": "markdown",
   "id": "c399b4b0-a9cb-450e-9a5e-480e0e657b8e",
   "metadata": {},
   "source": [
    "Our goal will be to build multilabel classification for the `code`\n",
    "variable using `libelle` as feature.\n",
    "\n",
    "## Enriching our test dataset\n",
    "\n",
    "Unlike `Fasttext`, this package offers the possibility of having several\n",
    "feature columns of different types (string for the text column and\n",
    "additional variables in numeric form, for example). To illustrate that,\n",
    "we propose the following enrichment of the example dataset:"
   ]
  },
  {
   "cell_type": "code",
   "execution_count": 2,
   "id": "92402df7",
   "metadata": {},
   "outputs": [],
   "source": [
    "import pandas as pd\n",
    "import numpy as np\n",
    "from sklearn.model_selection import train_test_split\n",
    "from sklearn.preprocessing import LabelEncoder\n",
    "\n",
    "def categorize_surface(\n",
    "    df: pd.DataFrame, surface_feature_name: int, like_sirene_3: bool = True\n",
    ") -> pd.DataFrame:\n",
    "    \"\"\"\n",
    "    Categorize the surface of the activity.\n",
    "\n",
    "    Args:\n",
    "        df (pd.DataFrame): DataFrame to categorize.\n",
    "        surface_feature_name (str): Name of the surface feature.\n",
    "        like_sirene_3 (bool): If True, categorize like Sirene 3.\n",
    "\n",
    "    Returns:\n",
    "        pd.DataFrame: DataFrame with a new column \"surf_cat\".\n",
    "    \"\"\"\n",
    "    df_copy = df.copy()\n",
    "    df_copy[surface_feature_name] = df_copy[surface_feature_name].replace(\"nan\", np.nan)\n",
    "    df_copy[surface_feature_name] = df_copy[surface_feature_name].astype(float)\n",
    "    # Check surface feature exists\n",
    "    if surface_feature_name not in df.columns:\n",
    "        raise ValueError(f\"Surface feature {surface_feature_name} not found in DataFrame.\")\n",
    "    # Check surface feature is a float variable\n",
    "    if not (pd.api.types.is_float_dtype(df_copy[surface_feature_name])):\n",
    "        raise ValueError(f\"Surface feature {surface_feature_name} must be a float variable.\")\n",
    "\n",
    "    if like_sirene_3:\n",
    "        # Categorize the surface\n",
    "        df_copy[\"surf_cat\"] = pd.cut(\n",
    "            df_copy[surface_feature_name],\n",
    "            bins=[0, 120, 400, 2500, np.inf],\n",
    "            labels=[\"1\", \"2\", \"3\", \"4\"],\n",
    "        ).astype(str)\n",
    "    else:\n",
    "        # Log transform the surface\n",
    "        df_copy[\"surf_log\"] = np.log(df[surface_feature_name])\n",
    "\n",
    "        # Categorize the surface\n",
    "        df_copy[\"surf_cat\"] = pd.cut(\n",
    "            df_copy.surf_log,\n",
    "            bins=[0, 3, 4, 5, 12],\n",
    "            labels=[\"1\", \"2\", \"3\", \"4\"],\n",
    "        ).astype(str)\n",
    "\n",
    "    df_copy[surface_feature_name] = df_copy[\"surf_cat\"].replace(\"nan\", \"0\")\n",
    "    df_copy[surface_feature_name] = df_copy[surface_feature_name].astype(int)\n",
    "    df_copy = df_copy.drop(columns=[\"surf_log\", \"surf_cat\"], errors=\"ignore\")\n",
    "    return df_copy\n",
    "\n",
    "\n",
    "def clean_and_tokenize_df(\n",
    "    df,\n",
    "    categorical_features=[\"EVT\", \"CJ\", \"NAT\", \"TYP\", \"CRT\"],\n",
    "    text_feature=\"libelle_processed\",\n",
    "    label_col=\"apet_finale\",\n",
    "):\n",
    "    df.fillna(\"nan\", inplace=True)\n",
    "\n",
    "    df = df.rename(\n",
    "        columns={\n",
    "            \"evenement_type\": \"EVT\",\n",
    "            \"cj\": \"CJ\",\n",
    "            \"activ_nat_et\": \"NAT\",\n",
    "            \"liasse_type\": \"TYP\",\n",
    "            \"activ_surf_et\": \"SRF\",\n",
    "            \"activ_perm_et\": \"CRT\",\n",
    "        }\n",
    "    )\n",
    "\n",
    "    les = []\n",
    "    for col in categorical_features:\n",
    "        le = LabelEncoder()\n",
    "        df[col] = le.fit_transform(df[col])\n",
    "        les.append(le)\n",
    "\n",
    "    df = categorize_surface(df, \"SRF\", like_sirene_3=True)\n",
    "    df = df[[text_feature, \"EVT\", \"CJ\", \"NAT\", \"TYP\", \"SRF\", \"CRT\", label_col]]\n",
    "\n",
    "    return df, les\n",
    "\n",
    "\n",
    "def stratified_split_rare_labels(X, y, test_size=0.2, min_train_samples=1):\n",
    "    # Get unique labels and their frequencies\n",
    "    unique_labels, label_counts = np.unique(y, return_counts=True)\n",
    "\n",
    "    # Separate rare and common labels\n",
    "    rare_labels = unique_labels[label_counts == 1]\n",
    "\n",
    "    # Create initial mask for rare labels to go into training set\n",
    "    rare_label_mask = np.isin(y, rare_labels)\n",
    "\n",
    "    # Separate data into rare and common label datasets\n",
    "    X_rare = X[rare_label_mask]\n",
    "    y_rare = y[rare_label_mask]\n",
    "    X_common = X[~rare_label_mask]\n",
    "    y_common = y[~rare_label_mask]\n",
    "\n",
    "    # Split common labels stratified\n",
    "    X_common_train, X_common_test, y_common_train, y_common_test = train_test_split(\n",
    "        X_common, y_common, test_size=test_size, stratify=y_common\n",
    "    )\n",
    "\n",
    "    # Combine rare labels with common labels split\n",
    "    X_train = np.concatenate([X_rare, X_common_train])\n",
    "    y_train = np.concatenate([y_rare, y_common_train])\n",
    "    X_test = X_common_test\n",
    "    y_test = y_common_test\n",
    "\n",
    "    return X_train, X_test, y_train, y_test\n",
    "\n",
    "def add_libelles(\n",
    "    df: pd.DataFrame,\n",
    "    df_naf: pd.DataFrame,\n",
    "    y: str,\n",
    "    text_feature: str,\n",
    "    textual_features: list,\n",
    "    categorical_features: list,\n",
    "):\n",
    "    missing_codes = set(df_naf[\"code\"])\n",
    "    fake_obs = df_naf[df_naf[\"code\"].isin(missing_codes)]\n",
    "    fake_obs[y] = fake_obs[\"code\"]\n",
    "    fake_obs[text_feature] = fake_obs[[text_feature]].apply(\n",
    "        lambda row: \" \".join(f\"[{col}] {val}\" for col, val in row.items() if val != \"\"), axis=1\n",
    "    )\n",
    "    df = pd.concat([df, fake_obs[[col for col in fake_obs.columns if col in df.columns]]])\n",
    "\n",
    "    if textual_features is not None:\n",
    "        for feature in textual_features:\n",
    "            df[feature] = df[feature].fillna(value=\"\")\n",
    "    if categorical_features is not None:\n",
    "        for feature in categorical_features:\n",
    "            df[feature] = df[feature].fillna(value=\"NaN\")\n",
    "\n",
    "    print(f\"\\t*** {len(missing_codes)} codes have been added in the database...\\n\")\n",
    "    return df"
   ]
  },
  {
   "cell_type": "code",
   "execution_count": 3,
   "id": "1fd02895",
   "metadata": {},
   "outputs": [
    {
     "name": "stdout",
     "output_type": "stream",
     "text": [
      "\t*** 732 codes have been added in the database...\n",
      "\n"
     ]
    }
   ],
   "source": [
    "categorical_features = [\"evenement_type\", \"cj\",  \"activ_nat_et\", \"liasse_type\", \"activ_surf_et\", \"activ_perm_et\"]\n",
    "text_feature = \"libelle\"\n",
    "y = \"apet_finale\"\n",
    "textual_features = None\n",
    "\n",
    "naf2008 = pd.read_csv(\"https://minio.lab.sspcloud.fr/projet-ape/data/naf2008.csv\", sep=\";\")\n",
    "df = add_libelles(df, naf2008, y, text_feature, textual_features, categorical_features)"
   ]
  },
  {
   "cell_type": "markdown",
   "id": "67f4160d-0c98-4700-80f4-1ba454e6a2df",
   "metadata": {},
   "source": [
    "## Preprocessing\n",
    "\n",
    "To reduce noise in text fields, we recommend pre-processing before\n",
    "training a model with our package. We assume this preprocessing is\n",
    "handled by the package user : this gives him the opportunity to control\n",
    "data cleansing.\n",
    "\n",
    "Here’s an example of the type of preprocessing that can be carried out\n",
    "before moving on to the modeling phase"
   ]
  },
  {
   "cell_type": "code",
   "execution_count": 4,
   "id": "61b0252e",
   "metadata": {},
   "outputs": [
    {
     "name": "stderr",
     "output_type": "stream",
     "text": [
      "/opt/python/lib/python3.13/site-packages/tqdm/auto.py:21: TqdmWarning: IProgress not found. Please update jupyter and ipywidgets. See https://ipywidgets.readthedocs.io/en/stable/user_install.html\n",
      "  from .autonotebook import tqdm as notebook_tqdm\n"
     ]
    }
   ],
   "source": [
    "from torchTextClassifiers.utilities.preprocess import clean_text_feature\n",
    "df[\"libelle_processed\"] = clean_text_feature(df[\"libelle\"])"
   ]
  },
  {
   "cell_type": "markdown",
   "id": "acde2929-fe92-4107-8066-a5c8ac5d6428",
   "metadata": {},
   "source": [
    "Right now, the model requires the label (variable y) to be a numerical\n",
    "variable. If the label variable is a text variable, we recommend using\n",
    "Scikit Learn’s\n",
    "[LabelEncoder](https://scikit-learn.org/stable/modules/generated/sklearn.preprocessing.LabelEncoder.html)\n",
    "to convert into a numeric variable. Using that function will give user\n",
    "the possibility to get back labels from the encoder after running\n",
    "predictions."
   ]
  },
  {
   "cell_type": "code",
   "execution_count": 5,
   "id": "8c02a833",
   "metadata": {},
   "outputs": [],
   "source": [
    "encoder = LabelEncoder()\n",
    "df[\"apet_finale\"] = encoder.fit_transform(df[\"apet_finale\"])"
   ]
  },
  {
   "cell_type": "markdown",
   "id": "25593e1a-1661-49e3-9734-272ec4745de1",
   "metadata": {},
   "source": [
    "The function `clean_and_tokenize_df` requires special `DataFrame`\n",
    "formatting:\n",
    "\n",
    "-   First column contains the processed text (str)\n",
    "-   Next ones contain the “encoded” categorical (discrete) variables in\n",
    "    int format"
   ]
  },
  {
   "cell_type": "code",
   "execution_count": 6,
   "id": "5fb5b0c7",
   "metadata": {},
   "outputs": [
    {
     "name": "stderr",
     "output_type": "stream",
     "text": [
      "/tmp/ipykernel_159490/2075507147.py:60: FutureWarning: Setting an item of incompatible dtype is deprecated and will raise an error in a future version of pandas. Value 'nan' has dtype incompatible with float64, please explicitly cast to a compatible dtype first.\n",
      "  df.fillna(\"nan\", inplace=True)\n"
     ]
    }
   ],
   "source": [
    "df, _ = clean_and_tokenize_df(df, text_feature=\"libelle_processed\")\n",
    "X = df[[\"libelle_processed\", \"EVT\", \"CJ\", \"NAT\", \"TYP\", \"CRT\", \"SRF\"]].values\n",
    "y = df[\"apet_finale\"].values"
   ]
  },
  {
   "cell_type": "markdown",
   "id": "e70de831-dbc9-49be-b0c4-d70dd6479d03",
   "metadata": {},
   "source": [
    "## Splitting in train-test sets\n",
    "\n",
    "As usual in a learning approach, you need to break down your data into\n",
    "learning and test/validation samples to obtain robust performance\n",
    "statistics.\n",
    "This work is the responsibility of the package’s users. Please make sure that np.max(y_train) == len(np.unique(y_train))-1 (i.e. your labels are well encoded, in a consecutive manner, starting from 0), and that all the possible labels appear at least once in the training set.\n",
    "\n",
    "We provide the function stratified_train_test_split to match these requirements here.."
   ]
  },
  {
   "cell_type": "code",
   "execution_count": 7,
   "id": "b593fd75",
   "metadata": {},
   "outputs": [
    {
     "name": "stdout",
     "output_type": "stream",
     "text": [
      "True\n"
     ]
    }
   ],
   "source": [
    "from sklearn.model_selection import train_test_split \n",
    "X_train, X_test, y_train, y_test = stratified_split_rare_labels(X, y)\n",
    "\n",
    "print(np.max(y_train) == len(np.unique(y_train))-1)"
   ]
  },
  {
   "cell_type": "markdown",
   "id": "8729c5f4-9038-4437-929b-fc500dc0db7a",
   "metadata": {},
   "source": [
    "# Build the torchTextClassifiers FastText model (without training it)\n",
    "\n",
    "There are several ways to define and train a FastText model in\n",
    "this package.\n",
    "\n",
    "We first show how to initialize the model and then afterwards build it.\n",
    "\n",
    "`create_fasttext` function accepts the following parameters:\n",
    "\n",
    "| Parameter | Meaning | Example Value |\n",
    "|---------------------|------------------------------------------|----------|\n",
    "| `num_tokens` | Number of rows in the embedding matrix (size of the vocabulary) | 100000 |\n",
    "| `embedding_dim` | Dimension of the embedding (number of columns in the matrix) | 50 |\n",
    "| `sparse` | Use sparse embedding for fast computation (PyTorch) | False |\n",
    "| `categorical_embedding_dims` | Dimension of the embedding for categorical features | 10 |\n",
    "| `min_count` | Minimum occurrences of a word in the corpus to be included | 1 |\n",
    "| `min_n` | Minimum length of character n-grams | 3 |\n",
    "| `max_n` | Maximum length of character n-grams | 6 |\n",
    "| `len_word_ngrams` | Length of word n-grams | 3 |"
   ]
  },
  {
   "cell_type": "code",
   "execution_count": 8,
   "id": "5879ca88",
   "metadata": {},
   "outputs": [],
   "source": [
    "from torchTextClassifiers import create_fasttext\n",
    "\n",
    "parameters = {\n",
    "    \"num_tokens\": 100000,\n",
    "    \"embedding_dim\": 50,\n",
    "    \"sparse\": False,\n",
    "    \"categorical_embedding_dims\": 10,\n",
    "    \"min_count\": 1,\n",
    "    \"min_n\": 3,\n",
    "    \"max_n\": 6,\n",
    "    \"len_word_ngrams\": 3,\n",
    "}\n",
    "\n",
    "parameters_train = {\n",
    "    \"lr\": 0.004,\n",
    "    \"num_epochs\": 1,\n",
    "    \"batch_size\": 256,\n",
    "    \"patience\": 3   \n",
    "}\n",
    "\n",
    "model = create_fasttext(**parameters)"
   ]
  },
  {
   "cell_type": "markdown",
   "id": "05f9d26b-f08f-41be-93e4-b55a2c86690c",
   "metadata": {},
   "source": [
    "`model` is then a special `torchTextClassifiers` object:"
   ]
  },
  {
   "cell_type": "code",
   "execution_count": 10,
   "id": "ebf5608b",
   "metadata": {},
   "outputs": [
    {
     "data": {
      "text/plain": [
       "torchTextClassifiers.classifiers.fasttext.wrapper.FastTextWrapper"
      ]
     },
     "execution_count": 10,
     "metadata": {},
     "output_type": "execute_result"
    }
   ],
   "source": [
    "type(model.classifier_wrapper)"
   ]
  },
  {
   "cell_type": "markdown",
   "id": "dcbe8289-f506-48f9-b854-96f25974368f",
   "metadata": {},
   "source": [
    "As any `PyTorch` model, it accepts being save as a JSON for later on\n",
    "use:"
   ]
  },
  {
   "cell_type": "code",
   "execution_count": null,
   "id": "6c3b2b85",
   "metadata": {},
   "outputs": [],
   "source": [
    "model.to_json('torchTextClassifiers_config.json')\n",
    "# Loading from JSON now works with the new API:\n",
    "# from torchTextClassifiers import torchTextClassifiers\n",
    "# loaded_model = torchTextClassifiers.from_json('torchTextClassifiers_config.json')"
   ]
  },
  {
   "cell_type": "markdown",
   "id": "5f8b017f-66a1-413d-85e8-1981adf64823",
   "metadata": {},
   "source": [
    "We can apply `build` to finally train our model. These are the\n",
    "parameters accepted by the `build` method\n",
    "\n",
    "| Parameter | Meaning | Example Value |\n",
    "|---------------------|------------------------------------------|----------|\n",
    "| `lr` | Learning rate | 0.004 |\n",
    "| `num_epochs` | Number of training epochs | 1 |\n",
    "| `batch_size` | Batch size for training | 256 |\n",
    "| `patience` | Early stopping patience (number of epochs without improvement) | 3 |\n",
    "\n",
    "We build the model using the training data. We have now access to the\n",
    "tokenizer, the PyTorch model as well as a PyTorch Lightning module ready\n",
    "to be trained. Note that Lightning is high-level framework for PyTorch\n",
    "that simplifies the process of training, validating, and deploying\n",
    "machine learning models."
   ]
  },
  {
   "cell_type": "code",
   "execution_count": 11,
   "id": "e2e43d0e",
   "metadata": {},
   "outputs": [
    {
     "name": "stderr",
     "output_type": "stream",
     "text": [
      "2025-07-23 12:36:22 - torchTextClassifiers.classifiers.fasttext.model - num_rows is different from the number of tokens in the tokenizer. Using provided num_rows.\n"
     ]
    },
    {
     "name": "stderr",
     "output_type": "stream",
     "text": [
      "2025-07-23 12:36:22 - root - No scheduler parameters provided. Using defaults.\n"
     ]
    }
   ],
   "source": [
    "model.build(X_train, y_train, lightning=True, lr=parameters_train.get(\"lr\"))"
   ]
  },
  {
   "cell_type": "markdown",
   "id": "b5a7d5fa-596a-470b-892e-e8fafdb8221a",
   "metadata": {},
   "source": [
    "One can retrieve different objects from `model` instance:\n",
    "\n",
    "-   `model.pytorch_model`\n",
    "-   `model.tokenizer`\n",
    "-   `model.lightning_module`"
   ]
  },
  {
   "cell_type": "code",
   "execution_count": 12,
   "id": "091024e6",
   "metadata": {},
   "outputs": [
    {
     "data": {
      "text/plain": [
       "FastTextModel(\n",
       "  (embeddings): EmbeddingBag(108297, 50, mode='mean', padding_idx=108296)\n",
       "  (emb_0): Embedding(24, 10)\n",
       "  (emb_1): Embedding(42, 10)\n",
       "  (emb_2): Embedding(10, 10)\n",
       "  (emb_3): Embedding(13, 10)\n",
       "  (emb_4): Embedding(3, 10)\n",
       "  (emb_5): Embedding(5, 10)\n",
       "  (fc): Linear(in_features=60, out_features=732, bias=True)\n",
       ")"
      ]
     },
     "execution_count": 12,
     "metadata": {},
     "output_type": "execute_result"
    }
   ],
   "source": [
    "model.classifier_wrapper.pytorch_model"
   ]
  },
  {
   "cell_type": "code",
   "execution_count": 13,
   "id": "d983b113",
   "metadata": {},
   "outputs": [
    {
     "data": {
      "text/plain": [
       "<torchTextClassifiers.classifiers.fasttext.tokenizer.NGramTokenizer at 0x7f69b9a89550>"
      ]
     },
     "execution_count": 13,
     "metadata": {},
     "output_type": "execute_result"
    }
   ],
   "source": [
    "model.classifier_wrapper.tokenizer"
   ]
  },
  {
   "cell_type": "code",
   "execution_count": 14,
   "id": "9b23f1ba",
   "metadata": {},
   "outputs": [
    {
     "data": {
      "text/plain": [
       "FastTextModule(\n",
       "  (model): FastTextModel(\n",
       "    (embeddings): EmbeddingBag(108297, 50, mode='mean', padding_idx=108296)\n",
       "    (emb_0): Embedding(24, 10)\n",
       "    (emb_1): Embedding(42, 10)\n",
       "    (emb_2): Embedding(10, 10)\n",
       "    (emb_3): Embedding(13, 10)\n",
       "    (emb_4): Embedding(3, 10)\n",
       "    (emb_5): Embedding(5, 10)\n",
       "    (fc): Linear(in_features=60, out_features=732, bias=True)\n",
       "  )\n",
       "  (loss): CrossEntropyLoss()\n",
       "  (accuracy_fn): MulticlassAccuracy()\n",
       ")"
      ]
     },
     "execution_count": 14,
     "metadata": {},
     "output_type": "execute_result"
    }
   ],
   "source": [
    "model.classifier_wrapper.lightning_module"
   ]
  },
  {
   "cell_type": "markdown",
   "id": "b804391a-979a-4a74-a5f7-d8e27550e20e",
   "metadata": {},
   "source": [
    "One can also retrieve more precise information regarding the tokenizer.\n",
    "This can be useful to know how text is parsed before being given to the\n",
    "neural network:"
   ]
  },
  {
   "cell_type": "code",
   "execution_count": 15,
   "id": "00c077b0",
   "metadata": {},
   "outputs": [
    {
     "name": "stdout",
     "output_type": "stream",
     "text": [
      "{0: '</s>',\n",
      " 369: 'sit',\n",
      " 8402: 'lorem ipsum dolor',\n",
      " 8477: '<sit',\n",
      " 8958: 'sit amet </s>',\n",
      " 9254: '<dol',\n",
      " 15426: 'lorem>',\n",
      " 17674: 'ame',\n",
      " 19233: '<am',\n",
      " 20208: 'dol',\n",
      " 20956: 'amet>',\n",
      " 21660: '<lor',\n",
      " 22693: 'ips',\n",
      " 24149: 'lore',\n",
      " 27085: 'dolo',\n",
      " 28043: '<si',\n",
      " 29783: 'lorem ipsum',\n",
      " 32285: 'met>',\n",
      " 33686: 'or>',\n",
      " 36146: 'ipsum dolor',\n",
      " 37685: '<ipsum',\n",
      " 37714: '<lorem',\n",
      " 40715: '<lore',\n",
      " 42140: 'dolor sit amet',\n",
      " 43407: 'sit amet',\n",
      " 43769: 'dolor>',\n",
      " 44699: '<ips',\n",
      " 45326: 'et>',\n",
      " 46043: 'sit>',\n",
      " 46176: 'ipsu',\n",
      " 49083: 'psu',\n",
      " 49236: 'orem>',\n",
      " 50091: '<dolor',\n",
      " 53987: 'um>',\n",
      " 57650: 'it>',\n",
      " 58295: 'olor>',\n",
      " 60820: 'lor>',\n",
      " 60827: 'ore',\n",
      " 63114: 'sum>',\n",
      " 65777: 'met',\n",
      " 65864: '<amet',\n",
      " 67731: 'em>',\n",
      " 68083: 'olor',\n",
      " 68290: 'orem',\n",
      " 68834: 'psum',\n",
      " 72463: 'rem',\n",
      " 74123: 'ipsum>',\n",
      " 74942: 'dolor sit',\n",
      " 76898: 'lor',\n",
      " 77899: '<dolo',\n",
      " 82723: 'rem>',\n",
      " 87932: '<ame',\n",
      " 90231: 'amet </s>',\n",
      " 93076: 'psum>',\n",
      " 93114: '<ip',\n",
      " 95253: 'ipsum dolor sit',\n",
      " 97370: '<ipsu',\n",
      " 99856: 'sum',\n",
      " 102638: '<do',\n",
      " 103395: 'olo',\n",
      " 106518: '<lo'}\n"
     ]
    }
   ],
   "source": [
    "from pprint import pprint \n",
    "sentence = [\"lorem ipsum dolor sit amet\"]\n",
    "pprint(model.classifier_wrapper.tokenizer.tokenize(sentence)[2][0])"
   ]
  },
  {
   "cell_type": "markdown",
   "id": "c1ed6afa-6b7d-4d51-a4f0-3e8845a38704",
   "metadata": {},
   "source": [
    "Saving parameters to JSON can also be done after building, but the model\n",
    "needs to be rebuilt after loading."
   ]
  },
  {
   "cell_type": "code",
   "execution_count": null,
   "id": "bab40010",
   "metadata": {},
   "outputs": [],
   "source": [
    "model.to_json('torchTextClassifiers_config.json')"
   ]
  },
  {
   "cell_type": "code",
   "execution_count": null,
   "id": "9amb3ku6gim",
   "metadata": {},
   "outputs": [],
   "source": [
    "# Demonstrate the new JSON loading approach\n",
    "from torchTextClassifiers import torchTextClassifiers\n",
    "\n",
    "# Load model from JSON (works with new wrapper-based approach)\n",
    "loaded_model = torchTextClassifiers.from_json('torchTextClassifiers_config.json')\n",
    "\n",
    "print(\"✅ Model loaded from JSON successfully!\")\n",
    "print(f\"Loaded wrapper type: {type(loaded_model.classifier_wrapper).__name__}\")\n",
    "print(f\"Config parameters: embedding_dim={loaded_model.config.embedding_dim}, sparse={loaded_model.config.sparse}\")\n",
    "\n",
    "# The loaded model needs to be built before use\n",
    "# loaded_model.build(X_train, y_train)"
   ]
  },
  {
   "cell_type": "markdown",
   "id": "f7rq00g68p",
   "metadata": {},
   "source": [
    "## New API Features\n",
    "\n",
    "The updated `torchTextClassifiers` API provides more flexibility by allowing users to:\n",
    "\n",
    "### 1. **Direct Wrapper Usage**\n",
    "Create classifiers directly using wrapper classes, enabling custom implementations:\n",
    "\n",
    "```python\n",
    "from torchTextClassifiers import torchTextClassifiers\n",
    "from torchTextClassifiers.classifiers.fasttext.wrapper import FastTextWrapper\n",
    "from torchTextClassifiers.classifiers.fasttext.core import FastTextConfig\n",
    "\n",
    "config = FastTextConfig(...)\n",
    "wrapper = FastTextWrapper(config)\n",
    "classifier = torchTextClassifiers(wrapper)\n",
    "```\n",
    "\n",
    "### 2. **Convenience Functions (Backward Compatible)**\n",
    "The familiar convenience functions still work:\n",
    "\n",
    "```python\n",
    "from torchTextClassifiers import create_fasttext\n",
    "classifier = create_fasttext(embedding_dim=50, sparse=False, ...)\n",
    "```\n",
    "\n",
    "### 3. **Enhanced JSON Support**\n",
    "Improved serialization/deserialization that works with custom wrapper classes:\n",
    "\n",
    "```python\n",
    "# Save configuration\n",
    "classifier.to_json('config.json')\n",
    "\n",
    "# Load configuration (automatically detects wrapper type)\n",
    "loaded_classifier = torchTextClassifiers.from_json('config.json')\n",
    "\n",
    "# Or specify wrapper class explicitly\n",
    "loaded_classifier = torchTextClassifiers.from_json('config.json', FastTextWrapper)\n",
    "```\n",
    "\n",
    "### 4. **Custom Classifier Support**\n",
    "Users can now easily create their own classifier wrappers by inheriting from `BaseClassifierWrapper` and implementing the required methods."
   ]
  },
  {
   "cell_type": "markdown",
   "id": "017f8d12-0be8-45df-a0e4-80919c89db2d",
   "metadata": {},
   "source": [
    "## Alternative way to build torchTextClassifiers FastText\n",
    "\n",
    "The training data is only useful to initialize the tokenizer, but\n",
    "X_train and y_train are not needed to initialize the PyTorch model,\n",
    "provided we give the right parameters to construct layer.\n",
    "\n",
    "To highlight this, we provide a lower-level process to build the model\n",
    "where one can first build the tokenizer, and then build the model with\n",
    "custom architecture parameters.\n",
    "\n",
    "**Note**: With the new API, you can also create classifiers directly using wrapper classes:\n",
    "\n",
    "```python\n",
    "from torchTextClassifiers import torchTextClassifiers\n",
    "from torchTextClassifiers.classifiers.fasttext.wrapper import FastTextWrapper\n",
    "from torchTextClassifiers.classifiers.fasttext.core import FastTextConfig\n",
    "\n",
    "config = FastTextConfig(embedding_dim=50, sparse=False, ...)\n",
    "wrapper = FastTextWrapper(config)\n",
    "classifier = torchTextClassifiers(wrapper)\n",
    "```\n",
    "\n",
    "The tokenizer can be loaded **from the same JSON file** as the model\n",
    "parameters, or initialized using the right arguments."
   ]
  },
  {
   "cell_type": "code",
   "execution_count": 17,
   "id": "g0rmedya9eb",
   "metadata": {},
   "outputs": [
    {
     "name": "stderr",
     "output_type": "stream",
     "text": [
      "2025-07-23 12:38:33 - torchTextClassifiers.classifiers.fasttext.model - num_rows is different from the number of tokens in the tokenizer. Using provided num_rows.\n"
     ]
    },
    {
     "name": "stderr",
     "output_type": "stream",
     "text": [
      "2025-07-23 12:38:33 - root - No scheduler parameters provided. Using defaults.\n"
     ]
    },
    {
     "name": "stdout",
     "output_type": "stream",
     "text": [
      "✅ Direct wrapper model created successfully!\n",
      "Model type: FastTextWrapper\n",
      "Config type: FastTextConfig\n"
     ]
    }
   ],
   "source": [
    "# Example of the new direct wrapper approach\n",
    "from torchTextClassifiers import torchTextClassifiers\n",
    "from torchTextClassifiers.classifiers.fasttext.wrapper import FastTextWrapper\n",
    "from torchTextClassifiers.classifiers.fasttext.core import FastTextConfig\n",
    "\n",
    "# Create configuration\n",
    "config = FastTextConfig(\n",
    "    embedding_dim=50,\n",
    "    sparse=False,\n",
    "    num_tokens=100000,\n",
    "    min_count=1,\n",
    "    min_n=3,\n",
    "    max_n=6,\n",
    "    len_word_ngrams=3,\n",
    "    categorical_embedding_dims=10,\n",
    ")\n",
    "\n",
    "# Create wrapper and classifier\n",
    "wrapper = FastTextWrapper(config)\n",
    "direct_model = torchTextClassifiers(wrapper)\n",
    "\n",
    "# Build the model\n",
    "direct_model.build(X_train, y_train, lightning=True, lr=parameters_train.get(\"lr\"))\n",
    "\n",
    "print(\"✅ Direct wrapper model created successfully!\")\n",
    "print(f\"Model type: {type(direct_model.classifier_wrapper).__name__}\")\n",
    "print(f\"Config type: {type(direct_model.config).__name__}\")"
   ]
  },
  {
   "cell_type": "code",
   "execution_count": 18,
   "id": "3b13330d",
   "metadata": {},
   "outputs": [],
   "source": [
    "del model"
   ]
  },
  {
   "cell_type": "markdown",
   "id": "c6d7a335-bd31-455c-9184-48d2f2d60fbd",
   "metadata": {},
   "source": [
    "Let’s decompose our features in two group:\n",
    "\n",
    "-   We have our textual feature stored in the first column of the\n",
    "    features matrix\n",
    "-   All other columns are categorical variables"
   ]
  },
  {
   "cell_type": "code",
   "execution_count": 18,
   "id": "5f75f055",
   "metadata": {},
   "outputs": [],
   "source": [
    "training_text = X_train[:, 0].tolist()\n",
    "categorical_variables = X_train[:, 1:]"
   ]
  },
  {
   "cell_type": "markdown",
   "id": "adc8da37-5b6f-4c8a-8198-6c4080ffc7be",
   "metadata": {},
   "source": [
    "We need to create a few variables that will be useful afterwards"
   ]
  },
  {
   "cell_type": "code",
   "execution_count": 19,
   "id": "931103ec",
   "metadata": {},
   "outputs": [],
   "source": [
    "CAT_VOCAB_SIZE = (np.max(categorical_variables, axis=0) + 1).astype(int).tolist()\n",
    "NUM_CLASSES = len(np.unique(y_train))\n",
    "NUM_CAT_VAR = categorical_variables.shape[1]"
   ]
  },
  {
   "cell_type": "markdown",
   "id": "0d3ad544-d0f6-4d46-b322-af979c48bb43",
   "metadata": {},
   "source": [
    "Now let’s come to the nitty gritty. There are several ways to create an\n",
    "instance of the tokenizer.\n",
    "\n",
    "First, we can create the tokenizer from :\n",
    "\n",
    "-   model definition in the JSON file created beforehand\n",
    "-   textual data in training dataset"
   ]
  },
  {
   "cell_type": "code",
   "execution_count": null,
   "id": "0357c85f",
   "metadata": {},
   "outputs": [],
   "source": [
    "from torchTextClassifiers.classifiers.fasttext.tokenizer import NGramTokenizer\n",
    "tokenizer = NGramTokenizer.from_json('torchTextClassifiers_config.json', training_text)"
   ]
  },
  {
   "cell_type": "code",
   "execution_count": 22,
   "id": "0b4964f3",
   "metadata": {},
   "outputs": [
    {
     "data": {
      "text/plain": [
       "([['<H>', '</s>', 'H </s>'],\n",
       "  ['<e>', '</s>', 'e </s>'],\n",
       "  ['<l>', '</s>', 'l </s>'],\n",
       "  ['<l>', '</s>', 'l </s>'],\n",
       "  ['<o>', '</s>', 'o </s>'],\n",
       "  ['</s>'],\n",
       "  ['<w>', '</s>', 'w </s>'],\n",
       "  ['<o>', '</s>', 'o </s>'],\n",
       "  ['<r>', '</s>', 'r </s>'],\n",
       "  ['<l>', '</s>', 'l </s>'],\n",
       "  ['<d>', '</s>', 'd </s>']],\n",
       " [tensor([40876,     0, 51965]),\n",
       "  tensor([51907,     0, 77296]),\n",
       "  tensor([74312,     0, 26137]),\n",
       "  tensor([74312,     0, 26137]),\n",
       "  tensor([ 9853,     0, 53786]),\n",
       "  tensor([0]),\n",
       "  tensor([29925,     0, 74978]),\n",
       "  tensor([ 9853,     0, 53786]),\n",
       "  tensor([ 8646,     0, 13223]),\n",
       "  tensor([74312,     0, 26137]),\n",
       "  tensor([ 89472,      0, 104945])],\n",
       " [{40876: '<H>', 0: '</s>', 51965: 'H </s>'},\n",
       "  {51907: '<e>', 0: '</s>', 77296: 'e </s>'},\n",
       "  {74312: '<l>', 0: '</s>', 26137: 'l </s>'},\n",
       "  {74312: '<l>', 0: '</s>', 26137: 'l </s>'},\n",
       "  {9853: '<o>', 0: '</s>', 53786: 'o </s>'},\n",
       "  {0: '</s>'},\n",
       "  {29925: '<w>', 0: '</s>', 74978: 'w </s>'},\n",
       "  {9853: '<o>', 0: '</s>', 53786: 'o </s>'},\n",
       "  {8646: '<r>', 0: '</s>', 13223: 'r </s>'},\n",
       "  {74312: '<l>', 0: '</s>', 26137: 'l </s>'},\n",
       "  {89472: '<d>', 0: '</s>', 104945: 'd </s>'}],\n",
       " [{'<H>': 40876, '</s>': 0, 'H </s>': 51965},\n",
       "  {'<e>': 51907, '</s>': 0, 'e </s>': 77296},\n",
       "  {'<l>': 74312, '</s>': 0, 'l </s>': 26137},\n",
       "  {'<l>': 74312, '</s>': 0, 'l </s>': 26137},\n",
       "  {'<o>': 9853, '</s>': 0, 'o </s>': 53786},\n",
       "  {'</s>': 0},\n",
       "  {'<w>': 29925, '</s>': 0, 'w </s>': 74978},\n",
       "  {'<o>': 9853, '</s>': 0, 'o </s>': 53786},\n",
       "  {'<r>': 8646, '</s>': 0, 'r </s>': 13223},\n",
       "  {'<l>': 74312, '</s>': 0, 'l </s>': 26137},\n",
       "  {'<d>': 89472, '</s>': 0, 'd </s>': 104945}])"
      ]
     },
     "metadata": {},
     "output_type": "display_data"
    }
   ],
   "source": [
    "tokenizer.tokenize(\"Hello world\")"
   ]
  },
  {
   "cell_type": "markdown",
   "id": "fd5b6899-7831-40a6-9841-bbc1b0804956",
   "metadata": {},
   "source": [
    "However, there is a more straightforward way to do: creating directly\n",
    "the `NGramTokenizer` instance:"
   ]
  },
  {
   "cell_type": "code",
   "execution_count": null,
   "id": "8a6ee96b",
   "metadata": {},
   "outputs": [],
   "source": [
    "tokenizer = NGramTokenizer(\n",
    "    **parameters,\n",
    "    training_text=training_text\n",
    "    )"
   ]
  },
  {
   "cell_type": "code",
   "execution_count": 24,
   "id": "776636e6",
   "metadata": {},
   "outputs": [
    {
     "data": {
      "text/plain": [
       "([['<H>', '</s>', 'H </s>'],\n",
       "  ['<e>', '</s>', 'e </s>'],\n",
       "  ['<l>', '</s>', 'l </s>'],\n",
       "  ['<l>', '</s>', 'l </s>'],\n",
       "  ['<o>', '</s>', 'o </s>'],\n",
       "  ['</s>'],\n",
       "  ['<w>', '</s>', 'w </s>'],\n",
       "  ['<o>', '</s>', 'o </s>'],\n",
       "  ['<r>', '</s>', 'r </s>'],\n",
       "  ['<l>', '</s>', 'l </s>'],\n",
       "  ['<d>', '</s>', 'd </s>']],\n",
       " [tensor([40876,     0, 51965]),\n",
       "  tensor([51907,     0, 77296]),\n",
       "  tensor([74312,     0, 26137]),\n",
       "  tensor([74312,     0, 26137]),\n",
       "  tensor([ 9853,     0, 53786]),\n",
       "  tensor([0]),\n",
       "  tensor([29925,     0, 74978]),\n",
       "  tensor([ 9853,     0, 53786]),\n",
       "  tensor([ 8646,     0, 13223]),\n",
       "  tensor([74312,     0, 26137]),\n",
       "  tensor([ 89472,      0, 104945])],\n",
       " [{40876: '<H>', 0: '</s>', 51965: 'H </s>'},\n",
       "  {51907: '<e>', 0: '</s>', 77296: 'e </s>'},\n",
       "  {74312: '<l>', 0: '</s>', 26137: 'l </s>'},\n",
       "  {74312: '<l>', 0: '</s>', 26137: 'l </s>'},\n",
       "  {9853: '<o>', 0: '</s>', 53786: 'o </s>'},\n",
       "  {0: '</s>'},\n",
       "  {29925: '<w>', 0: '</s>', 74978: 'w </s>'},\n",
       "  {9853: '<o>', 0: '</s>', 53786: 'o </s>'},\n",
       "  {8646: '<r>', 0: '</s>', 13223: 'r </s>'},\n",
       "  {74312: '<l>', 0: '</s>', 26137: 'l </s>'},\n",
       "  {89472: '<d>', 0: '</s>', 104945: 'd </s>'}],\n",
       " [{'<H>': 40876, '</s>': 0, 'H </s>': 51965},\n",
       "  {'<e>': 51907, '</s>': 0, 'e </s>': 77296},\n",
       "  {'<l>': 74312, '</s>': 0, 'l </s>': 26137},\n",
       "  {'<l>': 74312, '</s>': 0, 'l </s>': 26137},\n",
       "  {'<o>': 9853, '</s>': 0, 'o </s>': 53786},\n",
       "  {'</s>': 0},\n",
       "  {'<w>': 29925, '</s>': 0, 'w </s>': 74978},\n",
       "  {'<o>': 9853, '</s>': 0, 'o </s>': 53786},\n",
       "  {'<r>': 8646, '</s>': 0, 'r </s>': 13223},\n",
       "  {'<l>': 74312, '</s>': 0, 'l </s>': 26137},\n",
       "  {'<d>': 89472, '</s>': 0, 'd </s>': 104945}])"
      ]
     },
     "metadata": {},
     "output_type": "display_data"
    }
   ],
   "source": [
    "tokenizer.tokenize(\"Hello world\")"
   ]
  },
  {
   "cell_type": "markdown",
   "id": "6b0fd6c0-9740-4a32-9bb2-4a3cfe174ea8",
   "metadata": {},
   "source": [
    "Why creating a `NGramTokenizer` separately ? Because model constructor\n",
    "is now independent from training data:"
   ]
  },
  {
   "cell_type": "code",
   "execution_count": null,
   "id": "ee5dbe0b",
   "metadata": {},
   "outputs": [],
   "source": [
    "from torchTextClassifiers import build_fasttext_from_tokenizer\n",
    "\n",
    "model = build_fasttext_from_tokenizer(\n",
    "    tokenizer, \n",
    "    embedding_dim=parameters[\"embedding_dim\"], \n",
    "    categorical_embedding_dims=parameters[\"categorical_embedding_dims\"], \n",
    "    sparse=parameters[\"sparse\"], \n",
    "    lr=parameters_train[\"lr\"], \n",
    "    num_classes=NUM_CLASSES, \n",
    "    num_categorical_features=NUM_CAT_VAR, \n",
    "    categorical_vocabulary_sizes=CAT_VOCAB_SIZE\n",
    ")"
   ]
  },
  {
   "cell_type": "markdown",
   "id": "f53080e9-9d78-479f-a446-2feb4a92b1de",
   "metadata": {},
   "source": [
    "**Warning**:\n",
    "\n",
    "If the PyTorch model building did not use the training data, please keep\n",
    "in mind that its architecture (that you customize here) should match the\n",
    "vocabulary size of the categorical variables and the total number of\n",
    "class, otherwise the model will raise an error during training.\n",
    "\n",
    "# Train a torchTextClassifiers FastText model directly\n",
    "\n",
    "If no advanced customization or PyTorch tuning is necessary, there is a\n",
    "direct way of training model."
   ]
  },
  {
   "cell_type": "code",
   "execution_count": 20,
   "id": "ce5dc4a1",
   "metadata": {},
   "outputs": [
    {
     "name": "stderr",
     "output_type": "stream",
     "text": [
      "2025-07-23 12:38:57 - torchTextClassifiers.torchTextClassifiers - Starting training process...\n",
      "2025-07-23 12:38:57 - torchTextClassifiers.torchTextClassifiers - Running on: cpu\n",
      "2025-07-23 12:38:57 - torchTextClassifiers.classifiers.fasttext.model - Creating DataLoader with 12 workers.\n",
      "2025-07-23 12:38:57 - torchTextClassifiers.classifiers.fasttext.model - Creating DataLoader with 12 workers.\n",
      "GPU available: False, used: False\n",
      "TPU available: False, using: 0 TPU cores\n",
      "HPU available: False, using: 0 HPUs\n",
      "/opt/python/lib/python3.13/site-packages/pytorch_lightning/trainer/connectors/logger_connector/logger_connector.py:76: Starting from v1.9.0, `tensorboardX` has been removed as a dependency of the `pytorch_lightning` package, due to potential conflicts with other packages in the ML ecosystem. For this reason, `logger=True` will use `CSVLogger` as the default logger, unless the `tensorboard` or `tensorboardX` packages are found. Please `pip install lightning[extra]` or one of them to enable TensorBoard support by default\n",
      "2025-07-23 12:38:57 - torchTextClassifiers.torchTextClassifiers - Launching training...\n",
      "\n",
      "  | Name        | Type               | Params | Mode \n",
      "-----------------------------------------------------------\n",
      "0 | model       | FastTextModel      | 5.5 M  | train\n",
      "1 | loss        | CrossEntropyLoss   | 0      | train\n",
      "2 | accuracy_fn | MulticlassAccuracy | 0      | train\n",
      "-----------------------------------------------------------\n",
      "5.5 M     Trainable params\n",
      "0         Non-trainable params\n",
      "5.5 M     Total params\n",
      "21.842    Total estimated model params size (MB)\n",
      "11        Modules in train mode\n",
      "0         Modules in eval mode\n"
     ]
    },
    {
     "name": "stdout",
     "output_type": "stream",
     "text": [
      "Sanity Checking: |          | 0/? [00:00<?, ?it/s]"
     ]
    },
    {
     "name": "stderr",
     "output_type": "stream",
     "text": [
      "/opt/python/lib/python3.13/site-packages/torch/utils/data/dataloader.py:665: UserWarning: 'pin_memory' argument is set as true but no accelerator is found, then device pinned memory won't be used.\n",
      "  warnings.warn(warn_msg)\n"
     ]
    },
    {
     "name": "stdout",
     "output_type": "stream",
     "text": [
      "Epoch 0: 100%|██████████| 34/34 [00:06<00:00,  4.89it/s, v_num=0, train_loss_step=5.480, val_loss=5.360, val_accuracy=0.345, train_loss_epoch=6.100, train_accuracy=0.178]"
     ]
    },
    {
     "name": "stderr",
     "output_type": "stream",
     "text": [
      "`Trainer.fit` stopped: `max_epochs=1` reached.\n"
     ]
    },
    {
     "name": "stdout",
     "output_type": "stream",
     "text": [
      "Epoch 0: 100%|██████████| 34/34 [00:07<00:00,  4.71it/s, v_num=0, train_loss_step=5.480, val_loss=5.360, val_accuracy=0.345, train_loss_epoch=6.100, train_accuracy=0.178]"
     ]
    },
    {
     "name": "stderr",
     "output_type": "stream",
     "text": [
      "2025-07-23 12:39:07 - torchTextClassifiers.torchTextClassifiers - Training completed in 9.61 seconds.\n"
     ]
    },
    {
     "name": "stdout",
     "output_type": "stream",
     "text": [
      "\n"
     ]
    }
   ],
   "source": [
    "model.train(\n",
    "    X_train,\n",
    "    y_train,\n",
    "    X_test,\n",
    "    y_test,\n",
    "    num_epochs=parameters_train['num_epochs'],\n",
    "    batch_size=parameters_train['batch_size'],\n",
    "    patience_scheduler=parameters_train['patience'],\n",
    "    patience_train=parameters_train['patience'],\n",
    "    lr=parameters_train['lr'],\n",
    "    verbose = True\n",
    ")"
   ]
  },
  {
   "cell_type": "markdown",
   "id": "919b67ed-4a65-4c26-92a9-771a4be3cd15",
   "metadata": {},
   "source": [
    "# Load a trained model from a Lightning checkpoint\n",
    "\n",
    "/! TOCOMPLETE"
   ]
  },
  {
   "cell_type": "code",
   "execution_count": 28,
   "id": "f560047b",
   "metadata": {},
   "outputs": [],
   "source": [
    "model.load_from_checkpoint(model.best_model_path) # or any other checkpoint path (string)"
   ]
  },
  {
   "cell_type": "markdown",
   "id": "e521a23b-77c4-4b0c-9940-a17b19b8111d",
   "metadata": {},
   "source": [
    "# Predicting from new labels"
   ]
  },
  {
   "cell_type": "code",
   "execution_count": 21,
   "id": "dbbad77d",
   "metadata": {},
   "outputs": [
    {
     "ename": "ValueError",
     "evalue": "not enough values to unpack (expected 2, got 1)",
     "output_type": "error",
     "traceback": [
      "\u001b[31m---------------------------------------------------------------------------\u001b[39m",
      "\u001b[31mValueError\u001b[39m                                Traceback (most recent call last)",
      "\u001b[36mCell\u001b[39m\u001b[36m \u001b[39m\u001b[32mIn[21]\u001b[39m\u001b[32m, line 5\u001b[39m\n\u001b[32m      2\u001b[39m X= np.array([[text[\u001b[32m0\u001b[39m], \u001b[32m0\u001b[39m, \u001b[32m0\u001b[39m, \u001b[32m0\u001b[39m, \u001b[32m0\u001b[39m, \u001b[32m0\u001b[39m, \u001b[32m0\u001b[39m]]) \u001b[38;5;66;03m# our new entry\u001b[39;00m\n\u001b[32m      3\u001b[39m TOP_K = \u001b[32m5\u001b[39m\n\u001b[32m----> \u001b[39m\u001b[32m5\u001b[39m pred, conf = model.predict(X, top_k=TOP_K)\n\u001b[32m      6\u001b[39m pred_naf = encoder.inverse_transform(pred.reshape(-\u001b[32m1\u001b[39m))\n\u001b[32m      7\u001b[39m subset = naf2008.set_index(\u001b[33m\"\u001b[39m\u001b[33mcode\u001b[39m\u001b[33m\"\u001b[39m).loc[np.flip(pred_naf)]\n",
      "\u001b[31mValueError\u001b[39m: not enough values to unpack (expected 2, got 1)"
     ]
    }
   ],
   "source": [
    "text = [\"coiffeur, boulangerie, pâtisserie\"] # one text description\n",
    "X= np.array([[text[0], 0, 0, 0, 0, 0, 0]]) # our new entry\n",
    "TOP_K = 5\n",
    "\n",
    "pred, conf = model.predict(X, top_k=TOP_K)\n",
    "pred_naf = encoder.inverse_transform(pred.reshape(-1))\n",
    "subset = naf2008.set_index(\"code\").loc[np.flip(pred_naf)]\n",
    "\n",
    "for i in range(TOP_K-1, -1, -1):\n",
    "    print(f\"Prediction: {pred_naf[i]}, confidence:  {conf[0, i]}, description: {subset['libelle'][pred_naf[i]]}\")"
   ]
  },
  {
   "cell_type": "markdown",
   "id": "f84e6bff-8fa7-4896-b60a-005ae5f1d3eb",
   "metadata": {},
   "source": [
    "# Explainability\n",
    "\n",
    "The `torchTextClassifiers` framework provides explainability features through the `predict_and_explain` method. This allows you to understand which parts of the input text contribute most to the model's predictions."
   ]
  },
  {
   "cell_type": "code",
   "execution_count": 22,
   "id": "58c46021",
   "metadata": {},
   "outputs": [
    {
     "name": "stdout",
     "output_type": "stream",
     "text": [
      "Predictions with explanations:\n",
      "Predicted classes: tensor([[727]])\n",
      "Confidence scores: tensor([[0.5400]])\n",
      "Word-level explanation scores shape: <class 'list'>\n",
      "Letter-level explanation scores shape: torch.Size([1, 1, 31])\n"
     ]
    }
   ],
   "source": [
    "# Note: Visualization functions are not yet implemented in torchTextClassifiers\n",
    "# The predict_and_explain method is available but visualization utilities need to be implemented\n",
    "\n",
    "pred, conf, all_scores, all_scores_letters = model.predict_and_explain(X)\n",
    "\n",
    "# TODO: Implement visualization functions\n",
    "# visualize_word_scores(all_scores, text, pred_naf.reshape(1, -1))\n",
    "# visualize_letter_scores(all_scores_letters, text, pred_naf.reshape(1, -1))\n",
    "\n",
    "print(\"Predictions with explanations:\")\n",
    "print(f\"Predicted classes: {pred}\")\n",
    "print(f\"Confidence scores: {conf}\")\n",
    "print(f\"Word-level explanation scores shape: {all_scores.shape if hasattr(all_scores, 'shape') else type(all_scores)}\")\n",
    "print(f\"Letter-level explanation scores shape: {all_scores_letters.shape if hasattr(all_scores_letters, 'shape') else type(all_scores_letters)}\")"
   ]
  }
 ],
 "metadata": {
  "kernelspec": {
   "display_name": "Python 3",
   "language": "python",
   "name": "python3"
  },
  "language_info": {
   "codemirror_mode": {
    "name": "ipython",
    "version": 3
   },
   "file_extension": ".py",
   "mimetype": "text/x-python",
   "name": "python",
   "nbconvert_exporter": "python",
   "pygments_lexer": "ipython3",
   "version": "3.13.5"
  }
 },
 "nbformat": 4,
 "nbformat_minor": 5
}
